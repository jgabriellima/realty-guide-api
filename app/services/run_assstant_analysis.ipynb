{
 "cells": [
  {
   "cell_type": "code",
   "id": "initial_id",
   "metadata": {
    "collapsed": true,
    "ExecuteTime": {
     "end_time": "2024-07-08T18:41:27.653321Z",
     "start_time": "2024-07-08T18:41:27.648149Z"
    }
   },
   "source": [
    "# read json from file\n",
    "import json\n",
    "\n",
    "from dotenv import load_dotenv\n",
    "\n",
    "load_dotenv()\n",
    "from marvin.beta.assistants.runs import Run\n",
    "\n",
    "    from app.schemas.real_estate import Property\n",
    "from app.services.assistants.geo_assistant import geo_assistant\n"
   ],
   "outputs": [],
   "execution_count": 31
  },
  {
   "metadata": {
    "ExecuteTime": {
     "end_time": "2024-07-08T18:04:29.020034Z",
     "start_time": "2024-07-08T17:59:49.698947Z"
    }
   },
   "cell_type": "code",
   "source": [
    "\n",
    "with open(\n",
    "        \"gralhaalugueis-com-br-imovel-aluguel-apartamento-2-quartos-itacorubi-florianopolis-sc-125-51m2-rs6000-1569.png.json\",\n",
    "        'r') as f:\n",
    "    data = json.load(f)\n",
    "    print(data)\n",
    "\n",
    "    property = Property(**data[\"property_data\"]['target_data'][0])\n",
    "    print(property)\n",
    "\n",
    "\n",
    "    print(property.property_metadata_founded_keys)\n",
    "\n",
    "    for metadata in property.property_metadata:\n",
    "        print(f\"{metadata.parameter_name} : {metadata.parameter_value}\")\n",
    "\n",
    "    result: Run = geo_assistant(\n",
    "        f\"Meu cliente está interessado nesse imóvel: <property>{property.model_dump_json()}</property>. Vamos enriquecer as informações?\")\n"
   ],
   "id": "69d667098da362c8",
   "outputs": [
    {
     "name": "stdout",
     "output_type": "stream",
     "text": [
      "{'property_data': {'target_data': [{'property_id': '1', 'title': 'Apartamento para aluguel com 2 quartos', 'description': 'Apartamento de 2 quartos, ampla suíte com closet, banheira de hidromassagem e sacada. Sala ampla com sacada, móveis planejados e eletrodomésticos, ar condicionado em ambos os quartos, 2 vagas de garagem, todas cobertas e livres. Condomínio São Jorge, com portaria 24 horas, piscina, quadra esportiva, salão de festas, gás encanado, playground e espaço gourmet na área comum, o Condomínio São Jorge é preparado para atender às necessidades dos moradores que buscam lazer e conforto em um só lugar. A proximidade com a Universidade do Estado de Santa Catarina (UDESC), quando falamos, o Itacorubi é o bairro perfeito para quem busca fácil acesso às praias e ao centro da cidade. Ele está localizado a poucos minutos do Centro e da Lagoa da Conceição, um dos pontos turísticos mais conhecidos de Florianópolis.', 'price': '6000', 'neighborhood': 'Itacorubi', 'full_address': 'Avenida Avenida Itamarati, 380 - Itacorubi, Florianópolis, SC - São Jorge', 'property_metadata': [{'parameter_name': 'Area', 'parameter_value': '125.51 m²'}, {'parameter_name': 'Bedrooms', 'parameter_value': '2 quartos (1 suíte)'}, {'parameter_name': 'Bathrooms', 'parameter_value': '3 banheiros'}, {'parameter_name': 'Parking Spaces', 'parameter_value': '2 vagas'}, {'parameter_name': 'Air Conditioning', 'parameter_value': 'Yes'}, {'parameter_name': 'Barbecue', 'parameter_value': 'Yes'}, {'parameter_name': 'Swimming Pool', 'parameter_value': 'Yes'}, {'parameter_name': 'Security Guard', 'parameter_value': 'Yes'}, {'parameter_name': 'Playground', 'parameter_value': 'Yes'}, {'parameter_name': 'Monthly IPTU', 'parameter_value': '270'}, {'parameter_name': 'Monthly Condominium Fee', 'parameter_value': '1065'}], 'property_metadata_founded_keys': ['Area', 'Bedrooms', 'Bathrooms', 'Parking Spaces', 'Air Conditioning', 'Barbecue', 'Swimming Pool', 'Security Guard', 'Playground', 'Monthly IPTU', 'Monthly Condominium Fee'], 'images': ['https://gralhaaluguel.inforcedata.com.br/api/image/3235252.jpg', 'https://gralhaaluguel.inforcedata.com.br/api/image/3235253.jpg', 'https://gralhaaluguel.inforcedata.com.br/api/image/3235254.jpg', 'https://gralhaaluguel.inforcedata.com.br/api/image/3235255.jpg', 'https://gralhaaluguel.inforcedata.com.br/api/image/3235256.jpg', 'https://gralhaaluguel.inforcedata.com.br/api/image/3235257.jpg', 'https://gralhaaluguel.inforcedata.com.br/api/image/3235258.jpg', 'https://gralhaaluguel.inforcedata.com.br/api/image/3235259.jpg', 'https://gralhaaluguel.inforcedata.com.br/api/image/3235260.jpg', 'https://gralhaaluguel.inforcedata.com.br/api/image/3235261.jpg', 'https://gralhaaluguel.inforcedata.com.br/api/image/3235262.jpg', 'https://gralhaaluguel.inforcedata.com.br/api/image/3235263.jpg', 'https://gralhaaluguel.inforcedata.com.br/api/image/3235264.jpg', 'https://gralhaaluguel.inforcedata.com.br/api/image/3235265.jpg', 'https://gralhaaluguel.inforcedata.com.br/api/image/3235266.jpg', 'https://gralhaaluguel.inforcedata.com.br/api/image/3235267.jpg', 'https://gralhaaluguel.inforcedata.com.br/api/image/3235268.jpg', 'https://gralhaaluguel.inforcedata.com.br/api/image/3235269.jpg', 'https://gralhaaluguel.inforcedata.com.br/api/image/3235270.jpg', 'https://gralhaaluguel.inforcedata.com.br/api/image/3235271.jpg', 'https://gralhaaluguel.inforcedata.com.br/api/image/3235272.jpg', 'https://gralhaaluguel.inforcedata.com.br/api/image/3235273.jpg', 'https://gralhaaluguel.inforcedata.com.br/api/image/3235274.jpg', 'https://gralhaaluguel.inforcedata.com.br/api/image/3235275.jpg', 'https://gralhaaluguel.inforcedata.com.br/api/image/3235276.jpg', 'https://gralhaaluguel.inforcedata.com.br/api/image/3235277.jpg', 'https://gralhaaluguel.inforcedata.com.br/api/image/3235278.jpg', 'https://gralhaaluguel.inforcedata.com.br/api/image/3235279.jpg', 'https://gralhaaluguel.inforcedata.com.br/api/image/3235280.jpg', 'https://gralhaaluguel.inforcedata.com.br/api/image/3235281.jpg', 'https://gralhaaluguel.inforcedata.com.br/api/image/3235282.jpg', 'https://gralhaaluguel.inforcedata.com.br/api/image/3235283.jpg', 'https://gralhaaluguel.inforcedata.com.br/api/image/3235284.jpg', 'https://gralhaaluguel.inforcedata.com.br/api/image/3235285.jpg']}], 'cost': {'input_tokens': 2278, 'output_tokens': 420, 'total_tokens': 2698, 'price': 0.01769, 'total_price': 0.033710000000000004}}, 'property_images': {'target_data': [{'urls': ['https://gralhaaluguel.inforcedata.com.br/api/image/3235252.jpg', 'https://gralhaaluguel.inforcedata.com.br/api/image/3235253.jpg', 'https://gralhaaluguel.inforcedata.com.br/api/image/3235254.jpg', 'https://gralhaaluguel.inforcedata.com.br/api/image/3235255.jpg', 'https://gralhaaluguel.inforcedata.com.br/api/image/3235256.jpg', 'https://gralhaaluguel.inforcedata.com.br/api/image/3235257.jpg', 'https://gralhaaluguel.inforcedata.com.br/api/image/3235258.jpg', 'https://gralhaaluguel.inforcedata.com.br/api/image/3235259.jpg', 'https://gralhaaluguel.inforcedata.com.br/api/image/3235260.jpg', 'https://gralhaaluguel.inforcedata.com.br/api/image/3235261.jpg', 'https://gralhaaluguel.inforcedata.com.br/api/image/3235262.jpg', 'https://gralhaaluguel.inforcedata.com.br/api/image/3235263.jpg', 'https://gralhaaluguel.inforcedata.com.br/api/image/3235264.jpg', 'https://gralhaaluguel.inforcedata.com.br/api/image/3235265.jpg', 'https://gralhaaluguel.inforcedata.com.br/api/image/3235266.jpg', 'https://gralhaaluguel.inforcedata.com.br/api/image/3235267.jpg', 'https://gralhaaluguel.inforcedata.com.br/api/image/3235268.jpg', 'https://gralhaaluguel.inforcedata.com.br/api/image/3235269.jpg', 'https://gralhaaluguel.inforcedata.com.br/api/image/3235270.jpg', 'https://gralhaaluguel.inforcedata.com.br/api/image/3235271.jpg', 'https://gralhaaluguel.inforcedata.com.br/api/image/3235272.jpg', 'https://gralhaaluguel.inforcedata.com.br/api/image/3235273.jpg', 'https://gralhaaluguel.inforcedata.com.br/api/image/3235274.jpg', 'https://gralhaaluguel.inforcedata.com.br/api/image/3235275.jpg', 'https://gralhaaluguel.inforcedata.com.br/api/image/3235276.jpg', 'https://gralhaaluguel.inforcedata.com.br/api/image/3235277.jpg', 'https://gralhaaluguel.inforcedata.com.br/api/image/3235278.jpg', 'https://gralhaaluguel.inforcedata.com.br/api/image/3235279.jpg', 'https://gralhaaluguel.inforcedata.com.br/api/image/3235280.jpg', 'https://gralhaaluguel.inforcedata.com.br/api/image/3235281.jpg', 'https://gralhaaluguel.inforcedata.com.br/api/image/3235282.jpg', 'https://gralhaaluguel.inforcedata.com.br/api/image/3235283.jpg', 'https://gralhaaluguel.inforcedata.com.br/api/image/3235284.jpg', 'https://gralhaaluguel.inforcedata.com.br/api/image/3235285.jpg']}], 'cost': {'input_tokens': 1140, 'output_tokens': 688, 'total_tokens': 1828, 'price': 0.01602}}}\n",
      "property_id='1' title='Apartamento para aluguel com 2 quartos' description='Apartamento de 2 quartos, ampla suíte com closet, banheira de hidromassagem e sacada. Sala ampla com sacada, móveis planejados e eletrodomésticos, ar condicionado em ambos os quartos, 2 vagas de garagem, todas cobertas e livres. Condomínio São Jorge, com portaria 24 horas, piscina, quadra esportiva, salão de festas, gás encanado, playground e espaço gourmet na área comum, o Condomínio São Jorge é preparado para atender às necessidades dos moradores que buscam lazer e conforto em um só lugar. A proximidade com a Universidade do Estado de Santa Catarina (UDESC), quando falamos, o Itacorubi é o bairro perfeito para quem busca fácil acesso às praias e ao centro da cidade. Ele está localizado a poucos minutos do Centro e da Lagoa da Conceição, um dos pontos turísticos mais conhecidos de Florianópolis.' price='6000' neighborhood='Itacorubi' full_address='Avenida Avenida Itamarati, 380 - Itacorubi, Florianópolis, SC - São Jorge' property_metadata=[PropertyMetadata(parameter_name='Area', parameter_value='125.51 m²'), PropertyMetadata(parameter_name='Bedrooms', parameter_value='2 quartos (1 suíte)'), PropertyMetadata(parameter_name='Bathrooms', parameter_value='3 banheiros'), PropertyMetadata(parameter_name='Parking Spaces', parameter_value='2 vagas'), PropertyMetadata(parameter_name='Air Conditioning', parameter_value='Yes'), PropertyMetadata(parameter_name='Barbecue', parameter_value='Yes'), PropertyMetadata(parameter_name='Swimming Pool', parameter_value='Yes'), PropertyMetadata(parameter_name='Security Guard', parameter_value='Yes'), PropertyMetadata(parameter_name='Playground', parameter_value='Yes'), PropertyMetadata(parameter_name='Monthly IPTU', parameter_value='270'), PropertyMetadata(parameter_name='Monthly Condominium Fee', parameter_value='1065')] property_metadata_founded_keys=['Area', 'Bedrooms', 'Bathrooms', 'Parking Spaces', 'Air Conditioning', 'Barbecue', 'Swimming Pool', 'Security Guard', 'Playground', 'Monthly IPTU', 'Monthly Condominium Fee'] images=['https://gralhaaluguel.inforcedata.com.br/api/image/3235252.jpg', 'https://gralhaaluguel.inforcedata.com.br/api/image/3235253.jpg', 'https://gralhaaluguel.inforcedata.com.br/api/image/3235254.jpg', 'https://gralhaaluguel.inforcedata.com.br/api/image/3235255.jpg', 'https://gralhaaluguel.inforcedata.com.br/api/image/3235256.jpg', 'https://gralhaaluguel.inforcedata.com.br/api/image/3235257.jpg', 'https://gralhaaluguel.inforcedata.com.br/api/image/3235258.jpg', 'https://gralhaaluguel.inforcedata.com.br/api/image/3235259.jpg', 'https://gralhaaluguel.inforcedata.com.br/api/image/3235260.jpg', 'https://gralhaaluguel.inforcedata.com.br/api/image/3235261.jpg', 'https://gralhaaluguel.inforcedata.com.br/api/image/3235262.jpg', 'https://gralhaaluguel.inforcedata.com.br/api/image/3235263.jpg', 'https://gralhaaluguel.inforcedata.com.br/api/image/3235264.jpg', 'https://gralhaaluguel.inforcedata.com.br/api/image/3235265.jpg', 'https://gralhaaluguel.inforcedata.com.br/api/image/3235266.jpg', 'https://gralhaaluguel.inforcedata.com.br/api/image/3235267.jpg', 'https://gralhaaluguel.inforcedata.com.br/api/image/3235268.jpg', 'https://gralhaaluguel.inforcedata.com.br/api/image/3235269.jpg', 'https://gralhaaluguel.inforcedata.com.br/api/image/3235270.jpg', 'https://gralhaaluguel.inforcedata.com.br/api/image/3235271.jpg', 'https://gralhaaluguel.inforcedata.com.br/api/image/3235272.jpg', 'https://gralhaaluguel.inforcedata.com.br/api/image/3235273.jpg', 'https://gralhaaluguel.inforcedata.com.br/api/image/3235274.jpg', 'https://gralhaaluguel.inforcedata.com.br/api/image/3235275.jpg', 'https://gralhaaluguel.inforcedata.com.br/api/image/3235276.jpg', 'https://gralhaaluguel.inforcedata.com.br/api/image/3235277.jpg', 'https://gralhaaluguel.inforcedata.com.br/api/image/3235278.jpg', 'https://gralhaaluguel.inforcedata.com.br/api/image/3235279.jpg', 'https://gralhaaluguel.inforcedata.com.br/api/image/3235280.jpg', 'https://gralhaaluguel.inforcedata.com.br/api/image/3235281.jpg', 'https://gralhaaluguel.inforcedata.com.br/api/image/3235282.jpg', 'https://gralhaaluguel.inforcedata.com.br/api/image/3235283.jpg', 'https://gralhaaluguel.inforcedata.com.br/api/image/3235284.jpg', 'https://gralhaaluguel.inforcedata.com.br/api/image/3235285.jpg']\n",
      "['Area', 'Bedrooms', 'Bathrooms', 'Parking Spaces', 'Air Conditioning', 'Barbecue', 'Swimming Pool', 'Security Guard', 'Playground', 'Monthly IPTU', 'Monthly Condominium Fee']\n",
      "Area : 125.51 m²\n",
      "Bedrooms : 2 quartos (1 suíte)\n",
      "Bathrooms : 3 banheiros\n",
      "Parking Spaces : 2 vagas\n",
      "Air Conditioning : Yes\n",
      "Barbecue : Yes\n",
      "Swimming Pool : Yes\n",
      "Security Guard : Yes\n",
      "Playground : Yes\n",
      "Monthly IPTU : 270\n",
      "Monthly Condominium Fee : 1065\n"
     ]
    },
    {
     "data": {
      "text/plain": [
       "Output()"
      ],
      "application/vnd.jupyter.widget-view+json": {
       "version_major": 2,
       "version_minor": 0,
       "model_id": "f77cf60f19634016acee2ac0d72ae382"
      }
     },
     "metadata": {},
     "output_type": "display_data"
    },
    {
     "data": {
      "text/plain": [],
      "text/html": [
       "<pre style=\"white-space:pre;overflow-x:auto;line-height:normal;font-family:Menlo,'DejaVu Sans Mono',consolas,'Courier New',monospace\"></pre>\n"
      ]
     },
     "metadata": {},
     "output_type": "display_data"
    },
    {
     "data": {
      "text/plain": [
       "Output()"
      ],
      "application/vnd.jupyter.widget-view+json": {
       "version_major": 2,
       "version_minor": 0,
       "model_id": "96cc5d704b82402182604fde3af6cc0f"
      }
     },
     "metadata": {},
     "output_type": "display_data"
    },
    {
     "data": {
      "text/plain": [],
      "text/html": [
       "<pre style=\"white-space:pre;overflow-x:auto;line-height:normal;font-family:Menlo,'DejaVu Sans Mono',consolas,'Courier New',monospace\"></pre>\n"
      ]
     },
     "metadata": {},
     "output_type": "display_data"
    },
    {
     "data": {
      "text/plain": [
       "Output()"
      ],
      "application/vnd.jupyter.widget-view+json": {
       "version_major": 2,
       "version_minor": 0,
       "model_id": "0bba72a9ffea4582bb24f63344fe604d"
      }
     },
     "metadata": {},
     "output_type": "display_data"
    },
    {
     "data": {
      "text/plain": [],
      "text/html": [
       "<pre style=\"white-space:pre;overflow-x:auto;line-height:normal;font-family:Menlo,'DejaVu Sans Mono',consolas,'Courier New',monospace\"></pre>\n"
      ]
     },
     "metadata": {},
     "output_type": "display_data"
    },
    {
     "data": {
      "text/plain": [
       "Output()"
      ],
      "application/vnd.jupyter.widget-view+json": {
       "version_major": 2,
       "version_minor": 0,
       "model_id": "a52dbafea3044f67995a836d2427edb7"
      }
     },
     "metadata": {},
     "output_type": "display_data"
    },
    {
     "data": {
      "text/plain": [],
      "text/html": [
       "<pre style=\"white-space:pre;overflow-x:auto;line-height:normal;font-family:Menlo,'DejaVu Sans Mono',consolas,'Courier New',monospace\"></pre>\n"
      ]
     },
     "metadata": {},
     "output_type": "display_data"
    },
    {
     "data": {
      "text/plain": [
       "Output()"
      ],
      "application/vnd.jupyter.widget-view+json": {
       "version_major": 2,
       "version_minor": 0,
       "model_id": "f1651f2af08444ff8d2394578cb2b870"
      }
     },
     "metadata": {},
     "output_type": "display_data"
    },
    {
     "data": {
      "text/plain": [],
      "text/html": [
       "<pre style=\"white-space:pre;overflow-x:auto;line-height:normal;font-family:Menlo,'DejaVu Sans Mono',consolas,'Courier New',monospace\"></pre>\n"
      ]
     },
     "metadata": {},
     "output_type": "display_data"
    },
    {
     "name": "stderr",
     "output_type": "stream",
     "text": [
      "2024-07-08 15:01:17,520 - app.services.assistants.web_search - INFO - Fetching web info for query: `índice de criminalidade no bairro Itacorubi, Florianópolis`\n",
      "2024-07-08 15:01:23,722 - app.services.assistants.web_search - INFO - Web info fetched successfully for query `índice de criminalidade no bairro Itacorubi, Florianópolis`\n",
      "2024-07-08 15:01:23,821 - app.services.assistants.web_search - INFO - Data fetched successfully for query `índice de criminalidade no bairro Itacorubi, Florianópolis`\n",
      "Created a chunk of size 2645, which is longer than the specified 1000\n",
      "Created a chunk of size 1384, which is longer than the specified 1000\n",
      "Created a chunk of size 1452, which is longer than the specified 1000\n",
      "Created a chunk of size 1207, which is longer than the specified 1000\n",
      "Created a chunk of size 1460, which is longer than the specified 1000\n",
      "Created a chunk of size 1684, which is longer than the specified 1000\n",
      "Created a chunk of size 1037, which is longer than the specified 1000\n",
      "2024-07-08 15:01:23,845 - app.services.assistants.web_search - INFO - Text split successfully for query `índice de criminalidade no bairro Itacorubi, Florianópolis`\n",
      "/Users/joaogabriellima/Documents/Work/MyProjects/portifolio_2024/realty-guide-api/venv/lib/python3.12/site-packages/pydantic/_migration.py:283: UserWarning: `pydantic.error_wrappers:ValidationError` has been moved to `pydantic:ValidationError`.\n",
      "  warnings.warn(f'`{import_path}` has been moved to `{new_location}`.')\n",
      "2024-07-08 15:01:27,124 - app.services.assistants.web_search - INFO - Fetching web info for query: `incidentes de segurança no bairro Itacorubi, Florianópolis`\n"
     ]
    },
    {
     "name": "stdout",
     "output_type": "stream",
     "text": [
      "[Document(page_content='Bairros campeões em roubo e furto em Florianópolis\\n===============\\n                                  \\n\\ntop of page\\n\\n[![Image 1: LOGO BRANCO (FUNDO TRANSPARENTE).png](https://static.wixstatic.com/media/37b0f4_9048ee5df0794ca48df8b117dcc91ee0~mv2.png/v1/fill/w_120,h_60,al_c,q_85,usm_0.66_1.00_0.01,enc_auto/LOGO%20BRANCO%20(FUNDO%20TRANSPARENTE).png)](https://www.cobraseguros.com.br/)'), Document(page_content='###### Itacorubi - Florianópolis neighborhood'), Document(page_content='Use tab to navigate through the menu items.\\n\\n[![Image 2: WhatsApp.png](https://static.wixstatic.com/media/37b0f4_3e1f03302cf04a159ad2c0312c114a05.png/v1/fill/w_85,h_85,al_c,q_85,usm_0.66_1.00_0.01,enc_auto/WhatsApp.png)](https://wa.me/554888595722)\\n\\n*   Lucas Amaro\\n\\n*   *   4 de abr. de 2018\\n\\nBairros campeões em roubo e furto em Florianópolis\\n==================================================\\n\\n  \\n\\n![Image 3](https://static.wixstatic.com/media/37b0f4_5d5be0436e4542359dca72375699d4d5~mv2.png/v1/fill/w_740,h_419,al_c,q_85,usm_0.66_1.00_0.01,enc_auto/37b0f4_5d5be0436e4542359dca72375699d4d5~mv2.png)\\n\\nPESQUISA EM SITE REVELA EM TEMPO REAL OS BAIRROS COM MAIORES NÚMEROS DE REGISTROS DE ROUBO E FURTO NA CAPITAL CATARINENSE')]\n"
     ]
    },
    {
     "name": "stderr",
     "output_type": "stream",
     "text": [
      "2024-07-08 15:01:38,310 - app.services.assistants.web_search - INFO - Web info fetched successfully for query `incidentes de segurança no bairro Itacorubi, Florianópolis`\n",
      "2024-07-08 15:01:38,325 - app.services.assistants.web_search - INFO - Data fetched successfully for query `incidentes de segurança no bairro Itacorubi, Florianópolis`\n",
      "Created a chunk of size 1459, which is longer than the specified 1000\n",
      "Created a chunk of size 15421, which is longer than the specified 1000\n",
      "Created a chunk of size 1470, which is longer than the specified 1000\n",
      "Created a chunk of size 1384, which is longer than the specified 1000\n",
      "Created a chunk of size 1452, which is longer than the specified 1000\n",
      "Created a chunk of size 2645, which is longer than the specified 1000\n",
      "2024-07-08 15:01:38,329 - app.services.assistants.web_search - INFO - Text split successfully for query `incidentes de segurança no bairro Itacorubi, Florianópolis`\n",
      "2024-07-08 15:01:41,108 - app.services.assistants.web_search - INFO - Fetching web info for query: `condições dos serviços públicos no bairro Itacorubi, Florianópolis`\n"
     ]
    },
    {
     "name": "stdout",
     "output_type": "stream",
     "text": [
      "[Document(page_content='[MENU](https://ndmais.com.br/seguranca/predio-do-igp-no-itacorubi-em-florianopolis-e-alvo-de-disparos-de-criminosos/# \"Navegue pelo menu\")\\n\\n[BUSCA](https://ndmais.com.br/seguranca/predio-do-igp-no-itacorubi-em-florianopolis-e-alvo-de-disparos-de-criminosos/# \"Fazer uma busca\")\\n\\n[Início](https://ndmais.com.br/) › [Segurança](https://ndmais.com.br/seguranca/)\\n\\nPrédio do IGP no Itacorubi, em Florianópolis, é alvo de disparos de criminosos\\n==============================================================================\\n\\nAtaque ocorreu na madrugada de domingo (2) e ninguém ficou ferido; suspeitos utilizaram uma moto e efetuaram os tiros da rua\\n----------------------------------------------------------------------------------------------------------------------------'), Document(page_content='[](https://twitter.com/intent/tweet?url=https://ndmais.com.br/seguranca/predio-do-igp-no-itacorubi-em-florianopolis-e-alvo-de-disparos-de-criminosos/&text=Pr%C3%A9dio+do+IGP+no+Itacorubi%2C+em+Florian%C3%B3polis%2C+%C3%A9+alvo+de+disparos+de+criminosos&via=PortalNDMais \"Compartilhe no Twitter\")\\n\\n[](https://www.linkedin.com/shareArticle?mini=true&url=https://ndmais.com.br/seguranca/predio-do-igp-no-itacorubi-em-florianopolis-e-alvo-de-disparos-de-criminosos/&title=Pr%C3%A9diodoIGPnoItacorubi,emFlorian%C3%B3polis,%C3%A9alvodedisparosdecriminosos \"Compartilhe no LinkedIn\")\\n\\nO prédio do IGP (Instituto Geral de Perícias) foi alvo de tiros na madrugada deste domingo (2), no Itacorubi, em Florianópolis. Os disparos atingiram a fachada da instalação e janelas.'), Document(page_content='[](https://www.facebook.com/sharer/sharer.php?u=https://ndmais.com.br/seguranca/apartamento-e-atingido-por-incendio/ \"Compartilhe no Facebook\")\\n\\n[](https://twitter.com/intent/tweet?url=https://ndmais.com.br/seguranca/apartamento-e-atingido-por-incendio/&text=Apartamento+%C3%A9+atingido+por+inc%C3%AAndio&via=PortalNDMais \"Compartilhe no Twitter\")\\n\\n[](https://www.linkedin.com/shareArticle?mini=true&url=https://ndmais.com.br/seguranca/apartamento-e-atingido-por-incendio/&title=Apartamento%C3%A9atingidoporinc%C3%AAndio \"Compartilhe no LinkedIn\")\\n\\nUm apartamento foi atingido por um incêndio na noite dessa sexta-feira (2) no bairro Itacorubi, em Florianópolis.\\n\\nMais vídeos\\n-----------\\n\\n [![Image 6](https://i.ytimg.com/vi_webp/nu4ADgF6AQs/mqdefault.webp) 06:34](https://ndmais.com.br/noticias/sc-no-topo-balneario-camboriu-um-paraiso-costeiro-para-lucro/ \"SC no Topo – Balneário Camboriú: um paraíso costeiro para lucro\")')]\n"
     ]
    },
    {
     "name": "stderr",
     "output_type": "stream",
     "text": [
      "2024-07-08 15:02:46,590 - app.services.assistants.web_search - INFO - Fetching web info for query: `condições dos serviços públicos no bairro Itacorubi, Florianópolis`\n",
      "2024-07-08 15:02:55,922 - app.services.assistants.web_search - INFO - Web info fetched successfully for query `condições dos serviços públicos no bairro Itacorubi, Florianópolis`\n",
      "2024-07-08 15:02:55,933 - app.services.assistants.web_search - INFO - Data fetched successfully for query `condições dos serviços públicos no bairro Itacorubi, Florianópolis`\n",
      "Created a chunk of size 1384, which is longer than the specified 1000\n",
      "Created a chunk of size 1452, which is longer than the specified 1000\n",
      "Created a chunk of size 1207, which is longer than the specified 1000\n",
      "Created a chunk of size 1460, which is longer than the specified 1000\n",
      "Created a chunk of size 1684, which is longer than the specified 1000\n",
      "Created a chunk of size 1037, which is longer than the specified 1000\n",
      "Created a chunk of size 1189, which is longer than the specified 1000\n",
      "Created a chunk of size 1460, which is longer than the specified 1000\n",
      "Created a chunk of size 1684, which is longer than the specified 1000\n",
      "Created a chunk of size 1037, which is longer than the specified 1000\n",
      "Created a chunk of size 1031, which is longer than the specified 1000\n",
      "Created a chunk of size 1390, which is longer than the specified 1000\n",
      "Created a chunk of size 1753, which is longer than the specified 1000\n",
      "Created a chunk of size 3110, which is longer than the specified 1000\n",
      "2024-07-08 15:02:55,938 - app.services.assistants.web_search - INFO - Text split successfully for query `condições dos serviços públicos no bairro Itacorubi, Florianópolis`\n",
      "2024-07-08 15:02:59,762 - app.services.assistants.web_search - INFO - Fetching web info for query: `planejamento urbano e conservação de vias públicas no bairro Itacorubi, Florianópolis`\n"
     ]
    },
    {
     "name": "stdout",
     "output_type": "stream",
     "text": [
      "[Document(page_content='Um dos [**principais bairros de Florianópolis**](https://ibagy.com.br/blog/tenho-um-imovel/conheca-os-principais-bairros-de-florianopolis-e-suas-caracteristicas/), o Itacorubi é uma excelente opção para quem busca facilidade no dia a dia. O local é uma conexão para pontos conhecidos da capital catarinense, como a Lagoa da Conceição e as praias do Leste. Além disso, está a pouco minutos do Centro e possui acesso fácil à SC-401, que liga o bairro às praias do Norte da Ilha. Mas o bairro Itacorubi é muito mais do que um caminho: quem mora ou investe no local tem muito a ganhar.\\n\\nVeja agora os principais destaques do bairro Itacorubi.\\n\\n**Comércio e opções gastronômicas**\\n-----------------------------------'), Document(page_content='Bairro Itacorubi em Florianópolis: Guia Completo - Duda Imóveis | Imobiliária em Santa Catarina\\n==============='), Document(page_content='Compartilhe:\\n------------\\n\\n[Facebook](https://www.facebook.com/sharer/sharer.php?u=https://ibagy.com.br/blog/guia-de-bairro/inquilino/as-facilidades-do-bairro-itacorubi/)[Twitter](https://twitter.com/intent/tweet?text=https://ibagy.com.br/blog/guia-de-bairro/inquilino/as-facilidades-do-bairro-itacorubi/)[Linkedin](https://www.linkedin.com/shareArticle?mini=true&url=https://ibagy.com.br/blog/guia-de-bairro/inquilino/as-facilidades-do-bairro-itacorubi/&title=)[WhatsApp](https://api.whatsapp.com/send?text=https://ibagy.com.br/blog/guia-de-bairro/inquilino/as-facilidades-do-bairro-itacorubi/)\\n\\nObter um Link\\n\\nLink copiado.\\n\\n  \\n\\nEnviando\\n\\n[](https://www.facebook.com/ibagy)[](https://www.instagram.com/ibagy/)[](https://www.youtube.com/c/IbagyIm%C3%B3veisOficial)[](https://br.linkedin.com/company/ibagy)\\n\\n[Área do Cliente](https://ibagy.com.br/area-do-cliente)\\n\\n![Image 17: Ibagy Imobiliária - Florianópolis SC](https://ibagy.com.br/media/ibagy/2023/06/selo.jpg)')]\n"
     ]
    },
    {
     "name": "stderr",
     "output_type": "stream",
     "text": [
      "2024-07-08 15:03:03,200 - app.services.assistants.web_search - INFO - Web info fetched successfully for query `planejamento urbano e conservação de vias públicas no bairro Itacorubi, Florianópolis`\n",
      "2024-07-08 15:03:03,210 - app.services.assistants.web_search - INFO - Data fetched successfully for query `planejamento urbano e conservação de vias públicas no bairro Itacorubi, Florianópolis`\n",
      "Created a chunk of size 1384, which is longer than the specified 1000\n",
      "Created a chunk of size 1452, which is longer than the specified 1000\n",
      "Created a chunk of size 1207, which is longer than the specified 1000\n",
      "Created a chunk of size 1460, which is longer than the specified 1000\n",
      "Created a chunk of size 1684, which is longer than the specified 1000\n",
      "Created a chunk of size 1037, which is longer than the specified 1000\n",
      "Created a chunk of size 1044, which is longer than the specified 1000\n",
      "Created a chunk of size 1684, which is longer than the specified 1000\n",
      "Created a chunk of size 2069, which is longer than the specified 1000\n",
      "Created a chunk of size 1297, which is longer than the specified 1000\n",
      "Created a chunk of size 2859, which is longer than the specified 1000\n",
      "Created a chunk of size 2678, which is longer than the specified 1000\n",
      "Created a chunk of size 1275, which is longer than the specified 1000\n",
      "Created a chunk of size 1219, which is longer than the specified 1000\n",
      "2024-07-08 15:03:03,221 - app.services.assistants.web_search - INFO - Text split successfully for query `planejamento urbano e conservação de vias públicas no bairro Itacorubi, Florianópolis`\n",
      "2024-07-08 15:03:07,160 - app.services.assistants.web_search - INFO - Fetching web info for query: `fatores de qualidade de vida no bairro Itacorubi, Florianópolis`\n"
     ]
    },
    {
     "name": "stdout",
     "output_type": "stream",
     "text": [
      "[Document(page_content='### **Jardim Botânico no quintal de casa**\\n\\nMais do que um quintal ou um parque, Itacorubi oferece a você um jardim botânico. Isso mesmo, no local está o Jardim Botânico de Florianópolis, que possui 19 hectares de área verde e está localizado às margens da Rodovia Admar Gonzaga, uma das principais do bairro. Além de proporcionar espaços de lazer e descanso e garantir aquele contato com a natureza que nos faz bem, o local também possui um circuito de caminhada e corrida de 700 metros, gramados ao redor de um pequeno lago, pontos para a prática de slackline, quadra de beach tênis, horta comunitária, parque infantil e um centro de visitantes com exposições.\\n\\n### **Educação e oportunidades de emprego**'), Document(page_content='Já quando o assunto é trabalho, o Itacorubi é considerado um dos bairros de Floripa que mais traz incentivo à tecnologia. Morando lá, você tem acesso fácil e rápido ao Passeio Primavera Garden, um espaço inovador junto à ACATE (Associação Catarinense de Empresas de Tecnologia) e a empresas importantes da capital, como FIESC, EPAGRI e CREA. Além disso, o Itacorubi também é caminho para o [**Sapiens Par**](https://ibagy.com.br/blog/imovel-comercial/6-motivos-para-alugar-uma-sala-comercial-no-sapiens-parque/)**que**, o maior parque tecnológico de Santa Catarina, que promove o desenvolvimento dos setores de inovação, tecnologia, meio ambiente, indústria criativa, negócios e serviços de Florianópolis.'), Document(page_content='Seja qual for o seu destino, no Itacorubi você encontra facilidade para se deslocar até outras regiões da cidade. Além disso, essa mobilidade não se resume a carros e transportes coletivos: o bairro também conta com uma grande ciclovia que facilita o deslocamento de bicicleta com segurança.\\n\\n### **As facilidades do dia a dia pertinho de você**\\n\\nVocê já viu que é fácil se deslocar para outros pontos de Florianópolis morando no Itacorubi, mas não pense que você vai precisar ir para outros bairros a todo momento. Lá, você tem tudo que precisa no dia a dia pertinho de casa: são diversas opções de comércio, serviços, padarias, mercados e farmácias.')]\n"
     ]
    },
    {
     "name": "stderr",
     "output_type": "stream",
     "text": [
      "2024-07-08 15:03:11,337 - app.services.assistants.web_search - INFO - Web info fetched successfully for query `fatores de qualidade de vida no bairro Itacorubi, Florianópolis`\n",
      "2024-07-08 15:03:11,344 - app.services.assistants.web_search - INFO - Data fetched successfully for query `fatores de qualidade de vida no bairro Itacorubi, Florianópolis`\n",
      "Created a chunk of size 1189, which is longer than the specified 1000\n",
      "Created a chunk of size 1460, which is longer than the specified 1000\n",
      "Created a chunk of size 1684, which is longer than the specified 1000\n",
      "Created a chunk of size 1037, which is longer than the specified 1000\n",
      "Created a chunk of size 1207, which is longer than the specified 1000\n",
      "Created a chunk of size 1460, which is longer than the specified 1000\n",
      "Created a chunk of size 1684, which is longer than the specified 1000\n",
      "Created a chunk of size 1037, which is longer than the specified 1000\n",
      "2024-07-08 15:03:11,351 - app.services.assistants.web_search - INFO - Text split successfully for query `fatores de qualidade de vida no bairro Itacorubi, Florianópolis`\n",
      "2024-07-08 15:03:14,635 - app.services.assistants.web_search - INFO - Fetching web info for query: `avaliação de satisfação dos residentes no bairro Itacorubi, Florianópolis`\n"
     ]
    },
    {
     "name": "stdout",
     "output_type": "stream",
     "text": [
      "[Document(page_content='**Lazer e qualidade de vida**\\n-----------------------------\\n\\nApesar de ser um bairro universitário, o Itacorubi é um local tranquilo, que oferece qualidade de vida e opções de lazer ao ar livre. Uma delas é o Jardim Botânico de Florianópolis, que conta com 19 hectares de área verde e está localizado às margens da Rodovia Admar Gonzaga. No local, há circuitos de caminhada e corrida, pontos para a prática de slackline, quadra de beach tênis, horta comunitária, parque infantil e um centro de exposições.\\n\\nAlém disso, o bairro Itacorubi possui ciclovias, que facilitam a prática de exercícios e a mobilidade para bairros vizinhos. Já pensou morar em um local onde você pode fazer tudo a pé ou de bicicleta? No Itacorubi, é possível.\\xa0 Mas nem só de atividades ao ar livre é feito o lazer do bairro, que também conta com diversos bares e botecos para agitar a vida noturna do local.'), Document(page_content='Além das belezas naturais e dos centros tecnológicos, Florianópolis é conhecida por suas universidades. O bairro Itacorubi é um dos locais com grandes [**vantagens para universitários**](https://ibagy.com.br/blog/financas/vantagens-de-ter-um-imovel-para-alugar-perto-da-ufsc-e-udesc/)**,** já que ali estão localizados o campus da [**UDESC**](https://www.udesc.br/)\\xa0e da [**UniSociesc**](https://www.unisociesc.com.br/)\\xa0e o [**Centro de Ciências Agrárias (CCA) da UFSC**](https://cca.ufsc.br/).\\n\\nE a infraestrutura de educação no bairro não se resume ao ensino superior: no Itacorubi, também estão diversos colégios que são referência na cidade.\\n\\n**Lazer e qualidade de vida**\\n-----------------------------'), Document(page_content='Um dos [**principais bairros de Florianópolis**](https://ibagy.com.br/blog/tenho-um-imovel/conheca-os-principais-bairros-de-florianopolis-e-suas-caracteristicas/), o Itacorubi é uma excelente opção para quem busca facilidade no dia a dia. O local é uma conexão para pontos conhecidos da capital catarinense, como a Lagoa da Conceição e as praias do Leste. Além disso, está a pouco minutos do Centro e possui acesso fácil à SC-401, que liga o bairro às praias do Norte da Ilha. Mas o bairro Itacorubi é muito mais do que um caminho: quem mora ou investe no local tem muito a ganhar.\\n\\nVeja agora os principais destaques do bairro Itacorubi.\\n\\n**Comércio e opções gastronômicas**\\n-----------------------------------')]\n"
     ]
    },
    {
     "name": "stderr",
     "output_type": "stream",
     "text": [
      "2024-07-08 15:03:18,843 - app.services.assistants.web_search - INFO - Web info fetched successfully for query `avaliação de satisfação dos residentes no bairro Itacorubi, Florianópolis`\n",
      "2024-07-08 15:03:18,849 - app.services.assistants.web_search - INFO - Data fetched successfully for query `avaliação de satisfação dos residentes no bairro Itacorubi, Florianópolis`\n",
      "Created a chunk of size 1384, which is longer than the specified 1000\n",
      "Created a chunk of size 1452, which is longer than the specified 1000\n",
      "Created a chunk of size 1049, which is longer than the specified 1000\n",
      "2024-07-08 15:03:18,852 - app.services.assistants.web_search - INFO - Text split successfully for query `avaliação de satisfação dos residentes no bairro Itacorubi, Florianópolis`\n"
     ]
    },
    {
     "data": {
      "text/plain": [
       "Output()"
      ],
      "application/vnd.jupyter.widget-view+json": {
       "version_major": 2,
       "version_minor": 0,
       "model_id": "4457918edb964d77b53328be38accd9c"
      }
     },
     "metadata": {},
     "output_type": "display_data"
    },
    {
     "name": "stdout",
     "output_type": "stream",
     "text": [
      "[Document(page_content='O Maria Augusta Home + Design está localizado no bairro Itacorubi, um dos destinos residenciais mais buscados em Florianópolis. O bairro abriga uma mistura de vida urbana e tranquilidade, fazendo dele o local perfeito para quem procura equilíbrio. A região abriga importantes instituições públicas, empresas, além de uma extensão do campus da Universidade Federal de Santa Catarina (UFSC). Lar para estudantes, famílias e empresários, o Itacorubi oferece uma vasta gama de comodidades como padarias, farmácias e mercados. A região oferece diversas opções de lazer e cultura. Se você é amante da boa gastronomia, a Avenida Madre Benvenuta está emergindo como uma Via Gastronômica, com uma variedade de opções que vão desde pizzarias e hamburguerias até restaurantes orientais. O Itacorubi é um bairro que equilibra perfeitamente natureza, diversão e inovação, fazendo dele um excelente lugar para viver ou investir.\\n\\nRodovia Admar Gonzaga, Itacorubi, Florianópolis, SC\\n\\nEm frente à Udesc'), Document(page_content='Sua localização já é um pouco mais afastada do centro, ficando mais perto do campus da UFSC.\\n\\nGostou do bairro e de tudo o que leu até aqui? Então, não deixe de **[acessar o site e conferir as opções disponíveis no bairro](https://f1ciaimobiliaria.com.br/imoveis?location%5B%5D=itacorubi)** e em outros da região central da cidade.\\n\\n**Conclusão**\\n-------------\\n\\nO bairro Itacorubi em Florianópolis é um dos que mais concentra a classe média alta da capital devido a todos os atributos mencionados no artigo acima.\\n\\nPor sua privilegiada localização, vem sendo muito procurado anualmente para se morar, seja por pessoas que estão vindo de fora da cidade ou estado, ou mesmo dos já habitantes de Floripa.\\n\\nHá também uma considerável concentração de estudantes universitários devido aos campus.\\n\\nItacorubi oferece diversas opções de comércios, prédios, casas residenciais e muita natureza.'), Document(page_content='###### Itacorubi - Florianópolis neighborhood')]\n"
     ]
    },
    {
     "data": {
      "text/plain": [],
      "text/html": [
       "<pre style=\"white-space:pre;overflow-x:auto;line-height:normal;font-family:Menlo,'DejaVu Sans Mono',consolas,'Courier New',monospace\"></pre>\n"
      ]
     },
     "metadata": {},
     "output_type": "display_data"
    },
    {
     "data": {
      "text/plain": [
       "\u001B[2;36m[07/08/24 15:03:48]\u001B[0m\u001B[2;36m \u001B[0m\u001B[1;31mERROR   \u001B[0m marvin.Runs: Error calling tool update_state: \u001B[1;36m1\u001B[0m validation error for State \u001B]8;id=347338;file:///Users/joaogabriellima/Documents/Work/MyProjects/portifolio_2024/realty-guide-api/venv/lib/python3.12/site-packages/marvin/beta/assistants/runs.py\u001B\\\u001B[2mruns.py\u001B[0m\u001B]8;;\u001B\\\u001B[2m:\u001B[0m\u001B]8;id=197345;file:///Users/joaogabriellima/Documents/Work/MyProjects/portifolio_2024/realty-guide-api/venv/lib/python3.12/site-packages/marvin/beta/assistants/runs.py#201\u001B\\\u001B[2m201\u001B[0m\u001B]8;;\u001B\\\n",
       "\u001B[2;36m                    \u001B[0m         user_queries.\u001B[1;36m0.\u001B[0mcreated_at                                                  \u001B[2m           \u001B[0m\n",
       "\u001B[2;36m                    \u001B[0m           Field required \u001B[1m[\u001B[0m\u001B[33mtype\u001B[0m=\u001B[35mmissing\u001B[0m, \u001B[33minput_value\u001B[0m=\u001B[1m{\u001B[0m\u001B[32m'query'\u001B[0m: \u001B[32m'Segurança, \u001B[0m         \u001B[2m           \u001B[0m\n",
       "\u001B[2;36m                    \u001B[0m         \u001B[32min...incidentes reportados.'\u001B[0m\u001B[1m}\u001B[0m, \u001B[33minput_type\u001B[0m=\u001B[35mdict\u001B[0m\u001B[1m]\u001B[0m                            \u001B[2m           \u001B[0m\n",
       "\u001B[2;36m                    \u001B[0m             For further information visit                                          \u001B[2m           \u001B[0m\n",
       "\u001B[2;36m                    \u001B[0m         \u001B[4;94mhttps://errors.pydantic.dev/2.7/v/missing\u001B[0m                                  \u001B[2m           \u001B[0m\n"
      ],
      "text/html": [
       "<pre style=\"white-space:pre;overflow-x:auto;line-height:normal;font-family:Menlo,'DejaVu Sans Mono',consolas,'Courier New',monospace\"><span style=\"color: #7fbfbf; text-decoration-color: #7fbfbf\">[07/08/24 15:03:48] </span><span style=\"color: #800000; text-decoration-color: #800000; font-weight: bold\">ERROR   </span> marvin.Runs: Error calling tool update_state: <span style=\"color: #008080; text-decoration-color: #008080; font-weight: bold\">1</span> validation error for State <a href=\"file:///Users/joaogabriellima/Documents/Work/MyProjects/portifolio_2024/realty-guide-api/venv/lib/python3.12/site-packages/marvin/beta/assistants/runs.py\" target=\"_blank\"><span style=\"color: #7f7f7f; text-decoration-color: #7f7f7f\">runs.py</span></a><span style=\"color: #7f7f7f; text-decoration-color: #7f7f7f\">:</span><a href=\"file:///Users/joaogabriellima/Documents/Work/MyProjects/portifolio_2024/realty-guide-api/venv/lib/python3.12/site-packages/marvin/beta/assistants/runs.py#201\" target=\"_blank\"><span style=\"color: #7f7f7f; text-decoration-color: #7f7f7f\">201</span></a>\n",
       "<span style=\"color: #7fbfbf; text-decoration-color: #7fbfbf\">                    </span>         user_queries.<span style=\"color: #008080; text-decoration-color: #008080; font-weight: bold\">0.</span>created_at                                                  <span style=\"color: #7f7f7f; text-decoration-color: #7f7f7f\">           </span>\n",
       "<span style=\"color: #7fbfbf; text-decoration-color: #7fbfbf\">                    </span>           Field required <span style=\"font-weight: bold\">[</span><span style=\"color: #808000; text-decoration-color: #808000\">type</span>=<span style=\"color: #800080; text-decoration-color: #800080\">missing</span>, <span style=\"color: #808000; text-decoration-color: #808000\">input_value</span>=<span style=\"font-weight: bold\">{</span><span style=\"color: #008000; text-decoration-color: #008000\">'query'</span>: <span style=\"color: #008000; text-decoration-color: #008000\">'Segurança, </span>         <span style=\"color: #7f7f7f; text-decoration-color: #7f7f7f\">           </span>\n",
       "<span style=\"color: #7fbfbf; text-decoration-color: #7fbfbf\">                    </span>         <span style=\"color: #008000; text-decoration-color: #008000\">in...incidentes reportados.'</span><span style=\"font-weight: bold\">}</span>, <span style=\"color: #808000; text-decoration-color: #808000\">input_type</span>=<span style=\"color: #800080; text-decoration-color: #800080\">dict</span><span style=\"font-weight: bold\">]</span>                            <span style=\"color: #7f7f7f; text-decoration-color: #7f7f7f\">           </span>\n",
       "<span style=\"color: #7fbfbf; text-decoration-color: #7fbfbf\">                    </span>             For further information visit                                          <span style=\"color: #7f7f7f; text-decoration-color: #7f7f7f\">           </span>\n",
       "<span style=\"color: #7fbfbf; text-decoration-color: #7fbfbf\">                    </span>         <span style=\"color: #0000ff; text-decoration-color: #0000ff; text-decoration: underline\">https://errors.pydantic.dev/2.7/v/missing</span>                                  <span style=\"color: #7f7f7f; text-decoration-color: #7f7f7f\">           </span>\n",
       "</pre>\n"
      ]
     },
     "metadata": {},
     "output_type": "display_data"
    },
    {
     "data": {
      "text/plain": [
       "Output()"
      ],
      "application/vnd.jupyter.widget-view+json": {
       "version_major": 2,
       "version_minor": 0,
       "model_id": "5663ae18308a4ba6a975305ad055c9c0"
      }
     },
     "metadata": {},
     "output_type": "display_data"
    },
    {
     "data": {
      "text/plain": [],
      "text/html": [
       "<pre style=\"white-space:pre;overflow-x:auto;line-height:normal;font-family:Menlo,'DejaVu Sans Mono',consolas,'Courier New',monospace\"></pre>\n"
      ]
     },
     "metadata": {},
     "output_type": "display_data"
    },
    {
     "data": {
      "text/plain": [
       "Output()"
      ],
      "application/vnd.jupyter.widget-view+json": {
       "version_major": 2,
       "version_minor": 0,
       "model_id": "a9b51cac22c244b2aee9b4be127c9aa9"
      }
     },
     "metadata": {},
     "output_type": "display_data"
    },
    {
     "data": {
      "text/plain": [],
      "text/html": [
       "<pre style=\"white-space:pre;overflow-x:auto;line-height:normal;font-family:Menlo,'DejaVu Sans Mono',consolas,'Courier New',monospace\"></pre>\n"
      ]
     },
     "metadata": {},
     "output_type": "display_data"
    },
    {
     "data": {
      "text/plain": [
       "Output()"
      ],
      "application/vnd.jupyter.widget-view+json": {
       "version_major": 2,
       "version_minor": 0,
       "model_id": "9e917b6b28584255b6b18b3fc3a08b19"
      }
     },
     "metadata": {},
     "output_type": "display_data"
    },
    {
     "data": {
      "text/plain": [],
      "text/html": [
       "<pre style=\"white-space:pre;overflow-x:auto;line-height:normal;font-family:Menlo,'DejaVu Sans Mono',consolas,'Courier New',monospace\"></pre>\n"
      ]
     },
     "metadata": {},
     "output_type": "display_data"
    }
   ],
   "execution_count": 2
  },
  {
   "metadata": {
    "ExecuteTime": {
     "end_time": "2024-07-08T18:04:29.102Z",
     "start_time": "2024-07-08T18:04:29.077426Z"
    }
   },
   "cell_type": "code",
   "source": "print(result.messages)",
   "id": "83fa75fb30900c60",
   "outputs": [
    {
     "name": "stdout",
     "output_type": "stream",
     "text": [
      "[Message(id='msg_ky0ewbaRpuOz1hkLlVBKZuMf', assistant_id=None, attachments=[], completed_at=None, content=[TextContentBlock(text=Text(annotations=[], value='Meu cliente está interessado nesse imóvel: <property>{\"property_id\":\"1\",\"title\":\"Apartamento para aluguel com 2 quartos\",\"description\":\"Apartamento de 2 quartos, ampla suíte com closet, banheira de hidromassagem e sacada. Sala ampla com sacada, móveis planejados e eletrodomésticos, ar condicionado em ambos os quartos, 2 vagas de garagem, todas cobertas e livres. Condomínio São Jorge, com portaria 24 horas, piscina, quadra esportiva, salão de festas, gás encanado, playground e espaço gourmet na área comum, o Condomínio São Jorge é preparado para atender às necessidades dos moradores que buscam lazer e conforto em um só lugar. A proximidade com a Universidade do Estado de Santa Catarina (UDESC), quando falamos, o Itacorubi é o bairro perfeito para quem busca fácil acesso às praias e ao centro da cidade. Ele está localizado a poucos minutos do Centro e da Lagoa da Conceição, um dos pontos turísticos mais conhecidos de Florianópolis.\",\"price\":\"6000\",\"neighborhood\":\"Itacorubi\",\"full_address\":\"Avenida Avenida Itamarati, 380 - Itacorubi, Florianópolis, SC - São Jorge\",\"property_metadata\":[{\"parameter_name\":\"Area\",\"parameter_value\":\"125.51 m²\"},{\"parameter_name\":\"Bedrooms\",\"parameter_value\":\"2 quartos (1 suíte)\"},{\"parameter_name\":\"Bathrooms\",\"parameter_value\":\"3 banheiros\"},{\"parameter_name\":\"Parking Spaces\",\"parameter_value\":\"2 vagas\"},{\"parameter_name\":\"Air Conditioning\",\"parameter_value\":\"Yes\"},{\"parameter_name\":\"Barbecue\",\"parameter_value\":\"Yes\"},{\"parameter_name\":\"Swimming Pool\",\"parameter_value\":\"Yes\"},{\"parameter_name\":\"Security Guard\",\"parameter_value\":\"Yes\"},{\"parameter_name\":\"Playground\",\"parameter_value\":\"Yes\"},{\"parameter_name\":\"Monthly IPTU\",\"parameter_value\":\"270\"},{\"parameter_name\":\"Monthly Condominium Fee\",\"parameter_value\":\"1065\"}],\"property_metadata_founded_keys\":[\"Area\",\"Bedrooms\",\"Bathrooms\",\"Parking Spaces\",\"Air Conditioning\",\"Barbecue\",\"Swimming Pool\",\"Security Guard\",\"Playground\",\"Monthly IPTU\",\"Monthly Condominium Fee\"],\"images\":[\"https://gralhaaluguel.inforcedata.com.br/api/image/3235252.jpg\",\"https://gralhaaluguel.inforcedata.com.br/api/image/3235253.jpg\",\"https://gralhaaluguel.inforcedata.com.br/api/image/3235254.jpg\",\"https://gralhaaluguel.inforcedata.com.br/api/image/3235255.jpg\",\"https://gralhaaluguel.inforcedata.com.br/api/image/3235256.jpg\",\"https://gralhaaluguel.inforcedata.com.br/api/image/3235257.jpg\",\"https://gralhaaluguel.inforcedata.com.br/api/image/3235258.jpg\",\"https://gralhaaluguel.inforcedata.com.br/api/image/3235259.jpg\",\"https://gralhaaluguel.inforcedata.com.br/api/image/3235260.jpg\",\"https://gralhaaluguel.inforcedata.com.br/api/image/3235261.jpg\",\"https://gralhaaluguel.inforcedata.com.br/api/image/3235262.jpg\",\"https://gralhaaluguel.inforcedata.com.br/api/image/3235263.jpg\",\"https://gralhaaluguel.inforcedata.com.br/api/image/3235264.jpg\",\"https://gralhaaluguel.inforcedata.com.br/api/image/3235265.jpg\",\"https://gralhaaluguel.inforcedata.com.br/api/image/3235266.jpg\",\"https://gralhaaluguel.inforcedata.com.br/api/image/3235267.jpg\",\"https://gralhaaluguel.inforcedata.com.br/api/image/3235268.jpg\",\"https://gralhaaluguel.inforcedata.com.br/api/image/3235269.jpg\",\"https://gralhaaluguel.inforcedata.com.br/api/image/3235270.jpg\",\"https://gralhaaluguel.inforcedata.com.br/api/image/3235271.jpg\",\"https://gralhaaluguel.inforcedata.com.br/api/image/3235272.jpg\",\"https://gralhaaluguel.inforcedata.com.br/api/image/3235273.jpg\",\"https://gralhaaluguel.inforcedata.com.br/api/image/3235274.jpg\",\"https://gralhaaluguel.inforcedata.com.br/api/image/3235275.jpg\",\"https://gralhaaluguel.inforcedata.com.br/api/image/3235276.jpg\",\"https://gralhaaluguel.inforcedata.com.br/api/image/3235277.jpg\",\"https://gralhaaluguel.inforcedata.com.br/api/image/3235278.jpg\",\"https://gralhaaluguel.inforcedata.com.br/api/image/3235279.jpg\",\"https://gralhaaluguel.inforcedata.com.br/api/image/3235280.jpg\",\"https://gralhaaluguel.inforcedata.com.br/api/image/3235281.jpg\",\"https://gralhaaluguel.inforcedata.com.br/api/image/3235282.jpg\",\"https://gralhaaluguel.inforcedata.com.br/api/image/3235283.jpg\",\"https://gralhaaluguel.inforcedata.com.br/api/image/3235284.jpg\",\"https://gralhaaluguel.inforcedata.com.br/api/image/3235285.jpg\"]}</property>. Vamos enriquecer as informações?'), type='text')], created_at=1720461590, incomplete_at=None, incomplete_details=None, metadata={}, object='thread.message', role='user', run_id=None, status=None, thread_id='thread_SdydUhDHt5jpSz2V9wkj5ohH'), Message(id='msg_iZwlAe1VZAhsqg7QqPwHdrZO', assistant_id='asst_tzH7lsXuqAEIM61bCJkI50e9', attachments=[], completed_at=1720461598, content=[TextContentBlock(text=Text(annotations=[], value='Claro, vamos começar a enriquecer as informações sobre esse imóvel. Vou dividir nossa análise em várias etapas para garantir uma cobertura completa:\\n\\n### Plano de Ação\\n\\n1. **Geocodificação**\\n   - Validar e obter as coordenadas precisas do endereço fornecido.\\n\\n2. **Análise e Destaque de Pontos de Interesse Próximos**\\n   - Identificar e descrever locais de interesse nas proximidades, como universidades, supermercados, hospitais, parques, pontos turísticos, etc.\\n\\n3. **Rotas e Tempo de Deslocamento**\\n   - Calcular o tempo e distância de carro durante o horário de pico até pontos chave, como o centro da cidade, praias, e a Universidade do Estado de Santa Catarina (UDESC).\\n\\n4. **Pesquisa Adicional na Web**\\n   - Coletar informações adicionais sobre segurança, infraestrutura do bairro, qualidade de vida e outros aspectos relevantes.\\n\\n### Etapa 1: Geocodificação do Endereço\\nVou começar qualificando e obtendo a latitude e longitude do endereço para podermos prosseguir com detalhes mais precisos sobre os pontos de interesse e deslocamento.\\n\\n**Endereço:** Avenida Avenida Itamarati, 380 - Itacorubi, Florianópolis, SC - São Jorge\\n\\nVamos fazer isso agora.'), type='text')], created_at=1720461592, incomplete_at=None, incomplete_details=None, metadata={}, object='thread.message', role='assistant', run_id='run_dWvxBHD7Jx8dQeX1iT8uRnJE', status='completed', thread_id='thread_SdydUhDHt5jpSz2V9wkj5ohH'), Message(id='msg_qv743KnaM1VyMT4yxW5psjkX', assistant_id='asst_tzH7lsXuqAEIM61bCJkI50e9', attachments=[], completed_at=1720461604, content=[TextContentBlock(text=Text(annotations=[], value='### Etapa 1: Geocodificação Completa\\n\\nO endereço foi validado com sucesso:\\n- **Endereço Formatado:** Avenida Itamarati, 380 - Itacorubi, Florianópolis - SC, 88034-400, Brasil\\n- **Latitude:** -27.590847\\n- **Longitude:** -48.498135\\n\\n### Etapa 2: Análise e Destaque de Pontos de Interesse Próximos\\n\\nAgora, vamos identificar pontos de interesse próximos ao imóvel. Iremos pesquisar os seguintes tipos de locais:\\n\\n1. Supermercados\\n2. Hospitais\\n3. Parques\\n4. Restaurantes\\n5. Escolas e Universidades\\n\\nUtilizaremos a geolocalização para encontrar esses lugares nas proximidades.\\n\\nVamos realizar essas pesquisas agora.'), type='text')], created_at=1720461601, incomplete_at=None, incomplete_details=None, metadata={}, object='thread.message', role='assistant', run_id='run_dWvxBHD7Jx8dQeX1iT8uRnJE', status='completed', thread_id='thread_SdydUhDHt5jpSz2V9wkj5ohH'), Message(id='msg_kZV9RiJB4bL2veHw3mTlaq8j', assistant_id='asst_tzH7lsXuqAEIM61bCJkI50e9', attachments=[], completed_at=1720461640, content=[TextContentBlock(text=Text(annotations=[], value='### Análise e Destaque de Pontos de Interesse Próximos\\n\\n#### Supermercados\\n1. **Supermercado É de Casa**\\n   - **Distância:** ~350m\\n   - **Avaliação:** 4.0 (3376 avaliações)\\n   - **Detalhes:** Supermercado bem avaliado e muito próximo, oferecendo conveniência.\\n\\n2. **Armazém Itacorubi - Mercado e Conveniência**\\n   - **Distância:** ~450m\\n   - **Avaliação:** 4.6 (98 avaliações)\\n   - **Detalhes:** Excelente avaliação, ótima para compras rápidas.\\n\\n3. **Empório Ilha**\\n   - **Distância:** ~1.1km\\n   - **Avaliação:** 4.8 (42 avaliações)\\n   - **Detalhes:** Mercado especializado, sugerido para itens mais específicos e de alta qualidade.\\n\\n#### Hospitais\\n1. **Psicólogo Rodrigo Vasconcellos**\\n   - **Distância:** ~1.5km\\n   - **Avaliação:** 5.0 (16 avaliações)\\n   - **Detalhes:** Excelente opção para atendimento psicológico.\\n\\n2. **Clínica Ânima**\\n   - **Distância:** ~1.2km\\n   - **Avaliação:** 5.0 (2 avaliações)\\n   - **Detalhes:** Clínica bem avaliada com serviços gerais de saúde.\\n\\n3. **Saúde Santa Mônica**\\n   - **Distância:** ~1.3km\\n   - **Avaliação:** 3.1 (85 avaliações)\\n   - **Detalhes:** Atendimento variado, porém com uma avaliação mais baixa.\\n\\n#### Parques\\n1. **Parquinho Municipal de Pet Bubu**\\n   - **Distância:** ~300m\\n   - **Avaliação:** 4.8 (11 avaliações)\\n   - **Detalhes:** Ótimo para atividades ao ar livre com animais de estimação.\\n\\n2. **Praça Caiçara**\\n   - **Distância:** ~500m\\n   - **Avaliação:** 4.8 (47 avaliações)\\n   - **Detalhes:** Excelente espaço para lazer e atividades ao ar livre.\\n\\n3. **Trilha do Poção Córrego Grande**\\n   - **Distância:** ~3km\\n   - **Avaliação:** 4.7 (1680 avaliações)\\n   - **Detalhes:** Ideal para caminhadas e exploração da natureza.\\n\\n#### Restaurantes\\n1. **Balcão 74**\\n   - **Distância:** ~400m\\n   - **Avaliação:** 3.0 (2 avaliações)\\n   - **Detalhes:** Opção para refeições rápidas.\\n\\n2. **Lupo Nero - Mercado São Jorge**\\n   - **Distância:** ~450m\\n   - **Avaliação:** 4.6 (10 avaliações)\\n   - **Detalhes:** Restaurante bem avaliado para uma experiência gastronômica sofisticada.\\n\\n3. **Vó Flor Bakery**\\n   - **Distância:** ~1km\\n   - **Avaliação:** 4.3 (2298 avaliações)\\n   - **Detalhes:** Excelente padaria, ideal para café da manhã e lanches.\\n\\n#### Escolas e Universidades\\n1. **Colégio Educar Floripa**\\n   - **Distância:** ~650m\\n   - **Avaliação:** 4.2 (28 avaliações)\\n   - **Detalhes:** Instituição de ensino renomada, excelente para crianças e adolescentes.\\n\\n2. **Escola do Parque São Jorge**\\n   - **Distância:** ~1.2km\\n   - **Avaliação:** 4.2 (18 avaliações)\\n   - **Detalhes:** Instituição de ensino fundamental com boas avaliações.\\n\\n3. **Universidade do Estado de Santa Catarina (UDESC)**\\n   - **Distância:** ~1.5km\\n\\n### Etapa 3: Rotas e Tempo de Deslocamento\\n\\nVamos calcular o tempo de deslocamento de carro durante o horário de pico até alguns pontos chave, como o centro da cidade e praias próximas.\\n\\n#### Centros de Interesse:\\n1. **Centro da Cidade**\\n2. **Lagoa da Conceição**\\n3. **UDESC**\\n\\n### Etapa 4: Pesquisa Adicional na Web\\nPor fim, iremos explorar informações adicionais sobre segurança, infraestrutura do bairro, qualidade de vida, e outros aspectos relevantes.\\n\\nVamos ao passo seguinte: verificar tempos de deslocamento.'), type='text')], created_at=1720461617, incomplete_at=None, incomplete_details=None, metadata={}, object='thread.message', role='assistant', run_id='run_dWvxBHD7Jx8dQeX1iT8uRnJE', status='completed', thread_id='thread_SdydUhDHt5jpSz2V9wkj5ohH'), Message(id='msg_Z10f7ZCCE6NChybqY9U8yvuk', assistant_id='asst_tzH7lsXuqAEIM61bCJkI50e9', attachments=[], completed_at=1720461660, content=[TextContentBlock(text=Text(annotations=[], value='### Etapa 3: Rotas e Tempo de Deslocamento\\n\\n#### 1. **Centro da Cidade**\\n- **Distância:** 9.7 km\\n- **Tempo de Deslocamento:** 21 minutos (horário de pico)\\n- **Rota:** Rod. Admar Gonzaga e Av. Beira Mar Norte\\n- **Detalhes:** A rota inclui seguir pela Rod. Admar Gonzaga até a Avenida Beira Mar Norte, com algumas viradas estratégicas. Uma rota direta e conveniente para se deslocar ao centro da cidade.\\n\\n#### 2. **Lagoa da Conceição**\\n- **Distância:** 4.4 km\\n- **Tempo de Deslocamento:** 8 minutos (horário de pico)\\n- **Rota:** Rod. Admar Gonzaga\\n- **Detalhes:** Rápido acesso pela Rod. Admar Gonzaga até a Avenida Afonso Delambert Neto. O trânsito é geralmente fluido nesta rota.\\n\\n#### 3. **Universidade do Estado de Santa Catarina (UDESC)**\\n- **Distância:** 2.5 km\\n- **Tempo de Deslocamento:** 6 minutos (horário de pico)\\n- **Rota:** Rod. Admar Gonzaga\\n- **Detalhes:** Curta distância com deslocamento fácil pela Rod. Admar Gonzaga e um trecho curto na Avenida Madre Benvenuta. Ótima localização para estudantes e funcionários.\\n\\n### Etapa 4: Pesquisa Adicional na Web\\n\\nIrei agora coletar informações adicionais sobre a segurança, infraestrutura do bairro, qualidade de vida e outros aspectos relevantes no Itacorubi, Florianópolis.'), type='text')], created_at=1720461651, incomplete_at=None, incomplete_details=None, metadata={}, object='thread.message', role='assistant', run_id='run_dWvxBHD7Jx8dQeX1iT8uRnJE', status='completed', thread_id='thread_SdydUhDHt5jpSz2V9wkj5ohH'), Message(id='msg_6GbsdETqtnpcFtKLQ3Gklabi', assistant_id='asst_tzH7lsXuqAEIM61bCJkI50e9', attachments=[], completed_at=1720461868, content=[TextContentBlock(text=Text(annotations=[], value='### Informações Adicionais\\n\\nBaseado nas informações coletadas sobre o bairro Itacorubi em Florianópolis, segue uma análise detalhada:\\n\\n#### Qualidade de Vida\\n- **Prós:** \\n  - **Lazer e Natureza:** O bairro possui o Jardim Botânico de Florianópolis, ciclovias, e várias opções de lazer como slackline, quadras de esportes, áreas de caminhada e corrida.\\n  - **Instituições Educativas:** Forte presença de instituições educativas atrai muitos estudantes e profissionais do ramo de tecnologia.\\n  - **Comodidades Próximas:** Restaurantes, padarias, mercados e farmácias nas proximidades, além de uma emergente Via Gastronômica.\\n- **Contras:**\\n  - **Segurança:** O bairro apresenta desafios notáveis quanto à segurança, com registros significativos de crimes como roubo e furto. Relatos de incidentes de segurança, incluindo disparos contra prédios e incêndios em apartamentos, sugerem preocupação na região.\\n\\n#### Infraestrutura\\n- **Serviços Públicos:** \\n  - **Bem Mantida:** Infraestrutura adequada com acessos fáceis a diversos serviços essenciais como água, eletricidade e vias públicas conservadas.\\n  - **Lazer:** O Jardim Botânico serve como um ponto de lazer e contato com a natureza.\\n- **Planejamento Urbano:** \\n  - **Ciclovias e Transporte Coletivo:** Presença significativa de ciclovias e boas opções de transporte coletivo.\\n  - **Comércios e Serviços:** Uma grande quantidade de comércios e serviços disponíveis que melhoram a comodidade dos moradores.\\n\\n#### Conclusão\\nO Itacorubi oferece uma qualidade de vida balanceada entre a urbanização e a proximidade com a natureza. Sua infraestrutura robusta e as opções de lazer contribuem positivamente para a vida dos moradores. No entanto, é importante considerar os desafios de segurança na área ao tomar decisões sobre moradia ou investimento.\\n\\n### Resumo das Informações Geradas\\n- **Supermercados, hospitais, parques, restaurantes e escolas:** Várias opções nas proximidades garantem comodidade e acesso fácil a serviços essenciais.\\n- **Tempo de deslocamento ao centro, UDESC e Lagoa da Conceição:** Curto tempo de deslocamento, facilitando a mobilidade.\\n- **Segurança, infraestrutura e qualidade de vida:** A infraestrutura é robusta e a qualidade de vida elevada, mas a segurança é um ponto crítico.\\n\\nEssas informações fornecem uma visão detalhada e equilibrada da área, permitindo que o cliente tome uma decisão informada sobre o imóvel no Itacorubi.'), type='text')], created_at=1720461851, incomplete_at=None, incomplete_details=None, metadata={}, object='thread.message', role='assistant', run_id='run_dWvxBHD7Jx8dQeX1iT8uRnJE', status='completed', thread_id='thread_SdydUhDHt5jpSz2V9wkj5ohH')]\n"
     ]
    }
   ],
   "execution_count": 3
  },
  {
   "metadata": {
    "ExecuteTime": {
     "end_time": "2024-07-08T18:33:48.010415Z",
     "start_time": "2024-07-08T18:33:47.991680Z"
    }
   },
   "cell_type": "code",
   "source": "assistant_only = [msg for msg in result.messages if msg.role == \"assistant\"]",
   "id": "831d2e1b0fbb1017",
   "outputs": [],
   "execution_count": 23
  },
  {
   "metadata": {
    "ExecuteTime": {
     "end_time": "2024-07-08T18:31:34.140806Z",
     "start_time": "2024-07-08T18:31:34.076308Z"
    }
   },
   "cell_type": "code",
   "source": [
    "from dotenv import load_dotenv\n",
    "load_dotenv()\n",
    "from marvin.types import ChatResponse\n",
    "\n",
    "from app.schemas.real_estate import Property"
   ],
   "id": "b04cda1c19af3acd",
   "outputs": [],
   "execution_count": 19
  },
  {
   "metadata": {
    "ExecuteTime": {
     "end_time": "2024-07-08T18:33:49.681530Z",
     "start_time": "2024-07-08T18:33:49.671786Z"
    }
   },
   "cell_type": "code",
   "source": "assistant_only.pop(0)",
   "id": "505f7bac04892da0",
   "outputs": [
    {
     "data": {
      "text/plain": [
       "Message(id='msg_iZwlAe1VZAhsqg7QqPwHdrZO', assistant_id='asst_tzH7lsXuqAEIM61bCJkI50e9', attachments=[], completed_at=1720461598, content=[TextContentBlock(text=Text(annotations=[], value='Claro, vamos começar a enriquecer as informações sobre esse imóvel. Vou dividir nossa análise em várias etapas para garantir uma cobertura completa:\\n\\n### Plano de Ação\\n\\n1. **Geocodificação**\\n   - Validar e obter as coordenadas precisas do endereço fornecido.\\n\\n2. **Análise e Destaque de Pontos de Interesse Próximos**\\n   - Identificar e descrever locais de interesse nas proximidades, como universidades, supermercados, hospitais, parques, pontos turísticos, etc.\\n\\n3. **Rotas e Tempo de Deslocamento**\\n   - Calcular o tempo e distância de carro durante o horário de pico até pontos chave, como o centro da cidade, praias, e a Universidade do Estado de Santa Catarina (UDESC).\\n\\n4. **Pesquisa Adicional na Web**\\n   - Coletar informações adicionais sobre segurança, infraestrutura do bairro, qualidade de vida e outros aspectos relevantes.\\n\\n### Etapa 1: Geocodificação do Endereço\\nVou começar qualificando e obtendo a latitude e longitude do endereço para podermos prosseguir com detalhes mais precisos sobre os pontos de interesse e deslocamento.\\n\\n**Endereço:** Avenida Avenida Itamarati, 380 - Itacorubi, Florianópolis, SC - São Jorge\\n\\nVamos fazer isso agora.'), type='text')], created_at=1720461592, incomplete_at=None, incomplete_details=None, metadata={}, object='thread.message', role='assistant', run_id='run_dWvxBHD7Jx8dQeX1iT8uRnJE', status='completed', thread_id='thread_SdydUhDHt5jpSz2V9wkj5ohH')"
      ]
     },
     "execution_count": 24,
     "metadata": {},
     "output_type": "execute_result"
    }
   ],
   "execution_count": 24
  },
  {
   "metadata": {
    "ExecuteTime": {
     "end_time": "2024-07-08T18:39:25.848765Z",
     "start_time": "2024-07-08T18:39:25.834494Z"
    }
   },
   "cell_type": "code",
   "source": "property.json()",
   "id": "d9195fd5dfcaf1a8",
   "outputs": [
    {
     "data": {
      "text/plain": [
       "'{\"property_id\":\"1\",\"title\":\"Apartamento para aluguel com 2 quartos\",\"description\":\"Apartamento de 2 quartos, ampla suíte com closet, banheira de hidromassagem e sacada. Sala ampla com sacada, móveis planejados e eletrodomésticos, ar condicionado em ambos os quartos, 2 vagas de garagem, todas cobertas e livres. Condomínio São Jorge, com portaria 24 horas, piscina, quadra esportiva, salão de festas, gás encanado, playground e espaço gourmet na área comum, o Condomínio São Jorge é preparado para atender às necessidades dos moradores que buscam lazer e conforto em um só lugar. A proximidade com a Universidade do Estado de Santa Catarina (UDESC), quando falamos, o Itacorubi é o bairro perfeito para quem busca fácil acesso às praias e ao centro da cidade. Ele está localizado a poucos minutos do Centro e da Lagoa da Conceição, um dos pontos turísticos mais conhecidos de Florianópolis.\",\"price\":\"6000\",\"neighborhood\":\"Itacorubi\",\"full_address\":\"Avenida Avenida Itamarati, 380 - Itacorubi, Florianópolis, SC - São Jorge\",\"property_metadata\":[{\"parameter_name\":\"Area\",\"parameter_value\":\"125.51 m²\"},{\"parameter_name\":\"Bedrooms\",\"parameter_value\":\"2 quartos (1 suíte)\"},{\"parameter_name\":\"Bathrooms\",\"parameter_value\":\"3 banheiros\"},{\"parameter_name\":\"Parking Spaces\",\"parameter_value\":\"2 vagas\"},{\"parameter_name\":\"Air Conditioning\",\"parameter_value\":\"Yes\"},{\"parameter_name\":\"Barbecue\",\"parameter_value\":\"Yes\"},{\"parameter_name\":\"Swimming Pool\",\"parameter_value\":\"Yes\"},{\"parameter_name\":\"Security Guard\",\"parameter_value\":\"Yes\"},{\"parameter_name\":\"Playground\",\"parameter_value\":\"Yes\"},{\"parameter_name\":\"Monthly IPTU\",\"parameter_value\":\"270\"},{\"parameter_name\":\"Monthly Condominium Fee\",\"parameter_value\":\"1065\"}],\"property_metadata_founded_keys\":[\"Area\",\"Bedrooms\",\"Bathrooms\",\"Parking Spaces\",\"Air Conditioning\",\"Barbecue\",\"Swimming Pool\",\"Security Guard\",\"Playground\",\"Monthly IPTU\",\"Monthly Condominium Fee\"],\"images\":[\"https://gralhaaluguel.inforcedata.com.br/api/image/3235252.jpg\",\"https://gralhaaluguel.inforcedata.com.br/api/image/3235253.jpg\",\"https://gralhaaluguel.inforcedata.com.br/api/image/3235254.jpg\",\"https://gralhaaluguel.inforcedata.com.br/api/image/3235255.jpg\",\"https://gralhaaluguel.inforcedata.com.br/api/image/3235256.jpg\",\"https://gralhaaluguel.inforcedata.com.br/api/image/3235257.jpg\",\"https://gralhaaluguel.inforcedata.com.br/api/image/3235258.jpg\",\"https://gralhaaluguel.inforcedata.com.br/api/image/3235259.jpg\",\"https://gralhaaluguel.inforcedata.com.br/api/image/3235260.jpg\",\"https://gralhaaluguel.inforcedata.com.br/api/image/3235261.jpg\",\"https://gralhaaluguel.inforcedata.com.br/api/image/3235262.jpg\",\"https://gralhaaluguel.inforcedata.com.br/api/image/3235263.jpg\",\"https://gralhaaluguel.inforcedata.com.br/api/image/3235264.jpg\",\"https://gralhaaluguel.inforcedata.com.br/api/image/3235265.jpg\",\"https://gralhaaluguel.inforcedata.com.br/api/image/3235266.jpg\",\"https://gralhaaluguel.inforcedata.com.br/api/image/3235267.jpg\",\"https://gralhaaluguel.inforcedata.com.br/api/image/3235268.jpg\",\"https://gralhaaluguel.inforcedata.com.br/api/image/3235269.jpg\",\"https://gralhaaluguel.inforcedata.com.br/api/image/3235270.jpg\",\"https://gralhaaluguel.inforcedata.com.br/api/image/3235271.jpg\",\"https://gralhaaluguel.inforcedata.com.br/api/image/3235272.jpg\",\"https://gralhaaluguel.inforcedata.com.br/api/image/3235273.jpg\",\"https://gralhaaluguel.inforcedata.com.br/api/image/3235274.jpg\",\"https://gralhaaluguel.inforcedata.com.br/api/image/3235275.jpg\",\"https://gralhaaluguel.inforcedata.com.br/api/image/3235276.jpg\",\"https://gralhaaluguel.inforcedata.com.br/api/image/3235277.jpg\",\"https://gralhaaluguel.inforcedata.com.br/api/image/3235278.jpg\",\"https://gralhaaluguel.inforcedata.com.br/api/image/3235279.jpg\",\"https://gralhaaluguel.inforcedata.com.br/api/image/3235280.jpg\",\"https://gralhaaluguel.inforcedata.com.br/api/image/3235281.jpg\",\"https://gralhaaluguel.inforcedata.com.br/api/image/3235282.jpg\",\"https://gralhaaluguel.inforcedata.com.br/api/image/3235283.jpg\",\"https://gralhaaluguel.inforcedata.com.br/api/image/3235284.jpg\",\"https://gralhaaluguel.inforcedata.com.br/api/image/3235285.jpg\"]}'"
      ]
     },
     "execution_count": 28,
     "metadata": {},
     "output_type": "execute_result"
    }
   ],
   "execution_count": 28
  },
  {
   "metadata": {
    "ExecuteTime": {
     "end_time": "2024-07-08T19:09:56.305424Z",
     "start_time": "2024-07-08T19:09:39.862833Z"
    }
   },
   "cell_type": "code",
   "source": [
    "from app.utils.custom_marvin.custom_marvin_extractor import custom_data_extractor\n",
    "from app.schemas.real_estate import Property\n",
    "properties = []\n",
    "\n",
    "prop = property.copy()\n",
    "prop.property_metadata = []\n",
    "prop.images = []\n",
    "\n",
    "all_messages = []\n",
    "for ao in assistant_only:\n",
    "    all_messages.append(ao.content[0].text.value)\n",
    "    \n",
    "results: ChatResponse = custom_data_extractor(\n",
    "    f\"<property>{prop.json()}</property> <data_to_extract>{'\\n'.join(all_messages)}</data_to_extract>\",\n",
    "    target=Property,\n",
    "    instructions=\"You are an intelligent AI assistant specialized in extracting geolocation, spatial, and neighborhood data about real estate properties. Please structure the output according to the specified schema.\",\n",
    "    model_kwargs={\n",
    "        \"model\": \"gpt-4o\",\n",
    "        \"temperature\": 0.0,\n",
    "    }\n",
    ")\n",
    "\n",
    "target_data = [extracted_data.dict() for extracted_data in results.tool_outputs[0]]\n",
    "\n",
    "print(target_data)\n",
    "\n",
    "    "
   ],
   "id": "9016f0e06a9acc2a",
   "outputs": [
    {
     "name": "stdout",
     "output_type": "stream",
     "text": [
      "[{'property_id': '1', 'title': 'Apartamento para aluguel com 2 quartos', 'description': 'Apartamento de 2 quartos, ampla suíte com closet, banheira de hidromassagem e sacada. Sala ampla com sacada, móveis planejados e eletrodomésticos, ar condicionado em ambos os quartos, 2 vagas de garagem, todas cobertas e livres. Condomínio São Jorge, com portaria 24 horas, piscina, quadra esportiva, salão de festas, gás encanado, playground e espaço gourmet na área comum, o Condomínio São Jorge é preparado para atender às necessidades dos moradores que buscam lazer e conforto em um só lugar. A proximidade com a Universidade do Estado de Santa Catarina (UDESC), quando falamos, o Itacorubi é o bairro perfeito para quem busca fácil acesso às praias e ao centro da cidade. Ele está localizado a poucos minutos do Centro e da Lagoa da Conceição, um dos pontos turísticos mais conhecidos de Florianópolis.', 'price': '6000', 'neighborhood': 'Itacorubi', 'full_address': 'Avenida Itamarati, 380 - Itacorubi, Florianópolis, SC - São Jorge', 'property_metadata': [{'parameter_name': 'Latitude', 'parameter_value': '-27.590847'}, {'parameter_name': 'Longitude', 'parameter_value': '-48.498135'}, {'parameter_name': 'Supermarket 1', 'parameter_value': 'Supermercado É de Casa, ~350m, 4.0 (3376 avaliações)'}, {'parameter_name': 'Supermarket 2', 'parameter_value': 'Armazém Itacorubi - Mercado e Conveniência, ~450m, 4.6 (98 avaliações)'}, {'parameter_name': 'Supermarket 3', 'parameter_value': 'Empório Ilha, ~1.1km, 4.8 (42 avaliações)'}, {'parameter_name': 'Hospital 1', 'parameter_value': 'Psicólogo Rodrigo Vasconcellos, ~1.5km, 5.0 (16 avaliações)'}, {'parameter_name': 'Hospital 2', 'parameter_value': 'Clínica Ânima, ~1.2km, 5.0 (2 avaliações)'}, {'parameter_name': 'Hospital 3', 'parameter_value': 'Saúde Santa Mônica, ~1.3km, 3.1 (85 avaliações)'}, {'parameter_name': 'Park 1', 'parameter_value': 'Parquinho Municipal de Pet Bubu, ~300m, 4.8 (11 avaliações)'}, {'parameter_name': 'Park 2', 'parameter_value': 'Praça Caiçara, ~500m, 4.8 (47 avaliações)'}, {'parameter_name': 'Park 3', 'parameter_value': 'Trilha do Poção Córrego Grande, ~3km, 4.7 (1680 avaliações)'}, {'parameter_name': 'Restaurant 1', 'parameter_value': 'Balcão 74, ~400m, 3.0 (2 avaliações)'}, {'parameter_name': 'Restaurant 2', 'parameter_value': 'Lupo Nero - Mercado São Jorge, ~450m, 4.6 (10 avaliações)'}, {'parameter_name': 'Restaurant 3', 'parameter_value': 'Vó Flor Bakery, ~1km, 4.3 (2298 avaliações)'}, {'parameter_name': 'School 1', 'parameter_value': 'Colégio Educar Floripa, ~650m, 4.2 (28 avaliações)'}, {'parameter_name': 'School 2', 'parameter_value': 'Escola do Parque São Jorge, ~1.2km, 4.2 (18 avaliações)'}, {'parameter_name': 'University', 'parameter_value': 'Universidade do Estado de Santa Catarina (UDESC), ~1.5km'}, {'parameter_name': 'Commute to City Center', 'parameter_value': '9.7 km, 21 minutes (horário de pico)'}, {'parameter_name': 'Commute to Lagoa da Conceição', 'parameter_value': '4.4 km, 8 minutes (horário de pico)'}, {'parameter_name': 'Commute to UDESC', 'parameter_value': '2.5 km, 6 minutes (horário de pico)'}, {'parameter_name': 'Quality of Life', 'parameter_value': 'High, with good leisure and nature options, but security concerns'}, {'parameter_name': 'Infrastructure', 'parameter_value': 'Robust, with good public services and urban planning'}], 'property_metadata_founded_keys': ['Area', 'Bedrooms', 'Bathrooms', 'Parking Spaces', 'Air Conditioning', 'Barbecue', 'Swimming Pool', 'Security Guard', 'Playground', 'Monthly IPTU', 'Monthly Condominium Fee', 'Latitude', 'Longitude', 'Supermarket 1', 'Supermarket 2', 'Supermarket 3', 'Hospital 1', 'Hospital 2', 'Hospital 3', 'Park 1', 'Park 2', 'Park 3', 'Restaurant 1', 'Restaurant 2', 'Restaurant 3', 'School 1', 'School 2', 'University', 'Commute to City Center', 'Commute to Lagoa da Conceição', 'Commute to UDESC', 'Quality of Life', 'Infrastructure'], 'images': []}]\n"
     ]
    }
   ],
   "execution_count": 46
  },
  {
   "metadata": {
    "ExecuteTime": {
     "end_time": "2024-07-08T19:06:56.570127Z",
     "start_time": "2024-07-08T19:06:56.551737Z"
    }
   },
   "cell_type": "code",
   "source": "target_data[0]",
   "id": "b03109ff2d84ebda",
   "outputs": [
    {
     "data": {
      "text/plain": [
       "{'property_id': '1',\n",
       " 'title': 'Apartamento para aluguel com 2 quartos',\n",
       " 'description': 'Apartamento de 2 quartos, ampla suíte com closet, banheira de hidromassagem e sacada. Sala ampla com sacada, móveis planejados e eletrodomésticos, ar condicionado em ambos os quartos, 2 vagas de garagem, todas cobertas e livres. Condomínio São Jorge, com portaria 24 horas, piscina, quadra esportiva, salão de festas, gás encanado, playground e espaço gourmet na área comum, o Condomínio São Jorge é preparado para atender às necessidades dos moradores que buscam lazer e conforto em um só lugar. A proximidade com a Universidade do Estado de Santa Catarina (UDESC), quando falamos, o Itacorubi é o bairro perfeito para quem busca fácil acesso às praias e ao centro da cidade. Ele está localizado a poucos minutos do Centro e da Lagoa da Conceição, um dos pontos turísticos mais conhecidos de Florianópolis.',\n",
       " 'price': '6000',\n",
       " 'neighborhood': 'Itacorubi',\n",
       " 'full_address': 'Avenida Avenida Itamarati, 380 - Itacorubi, Florianópolis, SC - São Jorge',\n",
       " 'property_metadata': [{'parameter_name': 'Latitude',\n",
       "   'parameter_value': '-27.590847'},\n",
       "  {'parameter_name': 'Longitude', 'parameter_value': '-48.498135'},\n",
       "  {'parameter_name': 'Supermarket 1',\n",
       "   'parameter_value': 'Supermercado É de Casa (~350m, 4.0 rating)'},\n",
       "  {'parameter_name': 'Supermarket 2',\n",
       "   'parameter_value': 'Armazém Itacorubi - Mercado e Conveniência (~450m, 4.6 rating)'},\n",
       "  {'parameter_name': 'Supermarket 3',\n",
       "   'parameter_value': 'Empório Ilha (~1.1km, 4.8 rating)'},\n",
       "  {'parameter_name': 'Hospital 1',\n",
       "   'parameter_value': 'Psicólogo Rodrigo Vasconcellos (~1.5km, 5.0 rating)'},\n",
       "  {'parameter_name': 'Hospital 2',\n",
       "   'parameter_value': 'Clínica Ânima (~1.2km, 5.0 rating)'},\n",
       "  {'parameter_name': 'Hospital 3',\n",
       "   'parameter_value': 'Saúde Santa Mônica (~1.3km, 3.1 rating)'},\n",
       "  {'parameter_name': 'Park 1',\n",
       "   'parameter_value': 'Parquinho Municipal de Pet Bubu (~300m, 4.8 rating)'},\n",
       "  {'parameter_name': 'Park 2',\n",
       "   'parameter_value': 'Praça Caiçara (~500m, 4.8 rating)'},\n",
       "  {'parameter_name': 'Park 3',\n",
       "   'parameter_value': 'Trilha do Poção Córrego Grande (~3km, 4.7 rating)'},\n",
       "  {'parameter_name': 'Restaurant 1',\n",
       "   'parameter_value': 'Balcão 74 (~400m, 3.0 rating)'},\n",
       "  {'parameter_name': 'Restaurant 2',\n",
       "   'parameter_value': 'Lupo Nero - Mercado São Jorge (~450m, 4.6 rating)'},\n",
       "  {'parameter_name': 'Restaurant 3',\n",
       "   'parameter_value': 'Vó Flor Bakery (~1km, 4.3 rating)'},\n",
       "  {'parameter_name': 'School 1',\n",
       "   'parameter_value': 'Colégio Educar Floripa (~650m, 4.2 rating)'},\n",
       "  {'parameter_name': 'School 2',\n",
       "   'parameter_value': 'Escola do Parque São Jorge (~1.2km, 4.2 rating)'},\n",
       "  {'parameter_name': 'University',\n",
       "   'parameter_value': 'Universidade do Estado de Santa Catarina (UDESC) (~1.5km)'},\n",
       "  {'parameter_name': 'Commute to City Center',\n",
       "   'parameter_value': '9.7 km, 21 minutes (peak hours)'},\n",
       "  {'parameter_name': 'Commute to Lagoa da Conceição',\n",
       "   'parameter_value': '4.4 km, 8 minutes (peak hours)'},\n",
       "  {'parameter_name': 'Commute to UDESC',\n",
       "   'parameter_value': '2.5 km, 6 minutes (peak hours)'},\n",
       "  {'parameter_name': 'Quality of Life',\n",
       "   'parameter_value': 'High, with good leisure and nature options, but security concerns'},\n",
       "  {'parameter_name': 'Infrastructure',\n",
       "   'parameter_value': 'Robust, with good public services and urban planning'}],\n",
       " 'property_metadata_founded_keys': ['Area',\n",
       "  'Bedrooms',\n",
       "  'Bathrooms',\n",
       "  'Parking Spaces',\n",
       "  'Air Conditioning',\n",
       "  'Barbecue',\n",
       "  'Swimming Pool',\n",
       "  'Security Guard',\n",
       "  'Playground',\n",
       "  'Monthly IPTU',\n",
       "  'Monthly Condominium Fee',\n",
       "  'Latitude',\n",
       "  'Longitude',\n",
       "  'Supermarket 1',\n",
       "  'Supermarket 2',\n",
       "  'Supermarket 3',\n",
       "  'Hospital 1',\n",
       "  'Hospital 2',\n",
       "  'Hospital 3',\n",
       "  'Park 1',\n",
       "  'Park 2',\n",
       "  'Park 3',\n",
       "  'Restaurant 1',\n",
       "  'Restaurant 2',\n",
       "  'Restaurant 3',\n",
       "  'School 1',\n",
       "  'School 2',\n",
       "  'University',\n",
       "  'Commute to City Center',\n",
       "  'Commute to Lagoa da Conceição',\n",
       "  'Commute to UDESC',\n",
       "  'Quality of Life',\n",
       "  'Infrastructure'],\n",
       " 'images': []}"
      ]
     },
     "execution_count": 41,
     "metadata": {},
     "output_type": "execute_result"
    }
   ],
   "execution_count": 41
  },
  {
   "metadata": {
    "ExecuteTime": {
     "end_time": "2024-07-08T19:03:59.561836Z",
     "start_time": "2024-07-08T19:03:59.550456Z"
    }
   },
   "cell_type": "code",
   "source": "property",
   "id": "8409ed1c932243e5",
   "outputs": [
    {
     "data": {
      "text/plain": [
       "Property(property_id='1', title='Apartamento para aluguel com 2 quartos', description='Apartamento de 2 quartos, ampla suíte com closet, banheira de hidromassagem e sacada. Sala ampla com sacada, móveis planejados e eletrodomésticos, ar condicionado em ambos os quartos, 2 vagas de garagem, todas cobertas e livres. Condomínio São Jorge, com portaria 24 horas, piscina, quadra esportiva, salão de festas, gás encanado, playground e espaço gourmet na área comum, o Condomínio São Jorge é preparado para atender às necessidades dos moradores que buscam lazer e conforto em um só lugar. A proximidade com a Universidade do Estado de Santa Catarina (UDESC), quando falamos, o Itacorubi é o bairro perfeito para quem busca fácil acesso às praias e ao centro da cidade. Ele está localizado a poucos minutos do Centro e da Lagoa da Conceição, um dos pontos turísticos mais conhecidos de Florianópolis.', price='6000', neighborhood='Itacorubi', full_address='Avenida Avenida Itamarati, 380 - Itacorubi, Florianópolis, SC - São Jorge', property_metadata=[PropertyMetadata(parameter_name='Area', parameter_value='125.51 m²'), PropertyMetadata(parameter_name='Bedrooms', parameter_value='2 quartos (1 suíte)'), PropertyMetadata(parameter_name='Bathrooms', parameter_value='3 banheiros'), PropertyMetadata(parameter_name='Parking Spaces', parameter_value='2 vagas'), PropertyMetadata(parameter_name='Air Conditioning', parameter_value='Yes'), PropertyMetadata(parameter_name='Barbecue', parameter_value='Yes'), PropertyMetadata(parameter_name='Swimming Pool', parameter_value='Yes'), PropertyMetadata(parameter_name='Security Guard', parameter_value='Yes'), PropertyMetadata(parameter_name='Playground', parameter_value='Yes'), PropertyMetadata(parameter_name='Monthly IPTU', parameter_value='270'), PropertyMetadata(parameter_name='Monthly Condominium Fee', parameter_value='1065')], property_metadata_founded_keys=['Area', 'Bedrooms', 'Bathrooms', 'Parking Spaces', 'Air Conditioning', 'Barbecue', 'Swimming Pool', 'Security Guard', 'Playground', 'Monthly IPTU', 'Monthly Condominium Fee'], images=['https://gralhaaluguel.inforcedata.com.br/api/image/3235252.jpg', 'https://gralhaaluguel.inforcedata.com.br/api/image/3235253.jpg', 'https://gralhaaluguel.inforcedata.com.br/api/image/3235254.jpg', 'https://gralhaaluguel.inforcedata.com.br/api/image/3235255.jpg', 'https://gralhaaluguel.inforcedata.com.br/api/image/3235256.jpg', 'https://gralhaaluguel.inforcedata.com.br/api/image/3235257.jpg', 'https://gralhaaluguel.inforcedata.com.br/api/image/3235258.jpg', 'https://gralhaaluguel.inforcedata.com.br/api/image/3235259.jpg', 'https://gralhaaluguel.inforcedata.com.br/api/image/3235260.jpg', 'https://gralhaaluguel.inforcedata.com.br/api/image/3235261.jpg', 'https://gralhaaluguel.inforcedata.com.br/api/image/3235262.jpg', 'https://gralhaaluguel.inforcedata.com.br/api/image/3235263.jpg', 'https://gralhaaluguel.inforcedata.com.br/api/image/3235264.jpg', 'https://gralhaaluguel.inforcedata.com.br/api/image/3235265.jpg', 'https://gralhaaluguel.inforcedata.com.br/api/image/3235266.jpg', 'https://gralhaaluguel.inforcedata.com.br/api/image/3235267.jpg', 'https://gralhaaluguel.inforcedata.com.br/api/image/3235268.jpg', 'https://gralhaaluguel.inforcedata.com.br/api/image/3235269.jpg', 'https://gralhaaluguel.inforcedata.com.br/api/image/3235270.jpg', 'https://gralhaaluguel.inforcedata.com.br/api/image/3235271.jpg', 'https://gralhaaluguel.inforcedata.com.br/api/image/3235272.jpg', 'https://gralhaaluguel.inforcedata.com.br/api/image/3235273.jpg', 'https://gralhaaluguel.inforcedata.com.br/api/image/3235274.jpg', 'https://gralhaaluguel.inforcedata.com.br/api/image/3235275.jpg', 'https://gralhaaluguel.inforcedata.com.br/api/image/3235276.jpg', 'https://gralhaaluguel.inforcedata.com.br/api/image/3235277.jpg', 'https://gralhaaluguel.inforcedata.com.br/api/image/3235278.jpg', 'https://gralhaaluguel.inforcedata.com.br/api/image/3235279.jpg', 'https://gralhaaluguel.inforcedata.com.br/api/image/3235280.jpg', 'https://gralhaaluguel.inforcedata.com.br/api/image/3235281.jpg', 'https://gralhaaluguel.inforcedata.com.br/api/image/3235282.jpg', 'https://gralhaaluguel.inforcedata.com.br/api/image/3235283.jpg', 'https://gralhaaluguel.inforcedata.com.br/api/image/3235284.jpg', 'https://gralhaaluguel.inforcedata.com.br/api/image/3235285.jpg'])"
      ]
     },
     "execution_count": 35,
     "metadata": {},
     "output_type": "execute_result"
    }
   ],
   "execution_count": 35
  },
  {
   "metadata": {
    "ExecuteTime": {
     "end_time": "2024-07-08T19:06:46.199861Z",
     "start_time": "2024-07-08T19:06:46.171133Z"
    }
   },
   "cell_type": "code",
   "source": "target_data[0].property_metadata",
   "id": "5b6aa9df53659264",
   "outputs": [
    {
     "ename": "AttributeError",
     "evalue": "'dict' object has no attribute 'property_metadata'",
     "output_type": "error",
     "traceback": [
      "\u001B[0;31m---------------------------------------------------------------------------\u001B[0m",
      "\u001B[0;31mAttributeError\u001B[0m                            Traceback (most recent call last)",
      "Cell \u001B[0;32mIn[40], line 1\u001B[0m\n\u001B[0;32m----> 1\u001B[0m \u001B[43mtarget_data\u001B[49m\u001B[43m[\u001B[49m\u001B[38;5;241;43m0\u001B[39;49m\u001B[43m]\u001B[49m\u001B[38;5;241;43m.\u001B[39;49m\u001B[43mproperty_metadata\u001B[49m\n",
      "\u001B[0;31mAttributeError\u001B[0m: 'dict' object has no attribute 'property_metadata'"
     ]
    }
   ],
   "execution_count": 40
  },
  {
   "metadata": {
    "ExecuteTime": {
     "end_time": "2024-07-08T19:08:21.815749Z",
     "start_time": "2024-07-08T19:08:21.735248Z"
    }
   },
   "cell_type": "code",
   "source": [
    "prop_final = property.copy().dict()\n",
    "\n",
    "prop_metadata = prop_final.get(\"property_metadata\") + target_data[0].get(\"property_metadata\")"
   ],
   "id": "91d2698afdacd9d9",
   "outputs": [],
   "execution_count": 44
  },
  {
   "metadata": {
    "ExecuteTime": {
     "end_time": "2024-07-08T19:08:23.044634Z",
     "start_time": "2024-07-08T19:08:23.029334Z"
    }
   },
   "cell_type": "code",
   "source": "prop_metadata",
   "id": "832a3801301c418b",
   "outputs": [
    {
     "data": {
      "text/plain": [
       "[{'parameter_name': 'Area', 'parameter_value': '125.51 m²'},\n",
       " {'parameter_name': 'Bedrooms', 'parameter_value': '2 quartos (1 suíte)'},\n",
       " {'parameter_name': 'Bathrooms', 'parameter_value': '3 banheiros'},\n",
       " {'parameter_name': 'Parking Spaces', 'parameter_value': '2 vagas'},\n",
       " {'parameter_name': 'Air Conditioning', 'parameter_value': 'Yes'},\n",
       " {'parameter_name': 'Barbecue', 'parameter_value': 'Yes'},\n",
       " {'parameter_name': 'Swimming Pool', 'parameter_value': 'Yes'},\n",
       " {'parameter_name': 'Security Guard', 'parameter_value': 'Yes'},\n",
       " {'parameter_name': 'Playground', 'parameter_value': 'Yes'},\n",
       " {'parameter_name': 'Monthly IPTU', 'parameter_value': '270'},\n",
       " {'parameter_name': 'Monthly Condominium Fee', 'parameter_value': '1065'},\n",
       " {'parameter_name': 'Latitude', 'parameter_value': '-27.590847'},\n",
       " {'parameter_name': 'Longitude', 'parameter_value': '-48.498135'},\n",
       " {'parameter_name': 'Supermarket 1',\n",
       "  'parameter_value': 'Supermercado É de Casa (~350m, 4.0 rating)'},\n",
       " {'parameter_name': 'Supermarket 2',\n",
       "  'parameter_value': 'Armazém Itacorubi - Mercado e Conveniência (~450m, 4.6 rating)'},\n",
       " {'parameter_name': 'Supermarket 3',\n",
       "  'parameter_value': 'Empório Ilha (~1.1km, 4.8 rating)'},\n",
       " {'parameter_name': 'Hospital 1',\n",
       "  'parameter_value': 'Psicólogo Rodrigo Vasconcellos (~1.5km, 5.0 rating)'},\n",
       " {'parameter_name': 'Hospital 2',\n",
       "  'parameter_value': 'Clínica Ânima (~1.2km, 5.0 rating)'},\n",
       " {'parameter_name': 'Hospital 3',\n",
       "  'parameter_value': 'Saúde Santa Mônica (~1.3km, 3.1 rating)'},\n",
       " {'parameter_name': 'Park 1',\n",
       "  'parameter_value': 'Parquinho Municipal de Pet Bubu (~300m, 4.8 rating)'},\n",
       " {'parameter_name': 'Park 2',\n",
       "  'parameter_value': 'Praça Caiçara (~500m, 4.8 rating)'},\n",
       " {'parameter_name': 'Park 3',\n",
       "  'parameter_value': 'Trilha do Poção Córrego Grande (~3km, 4.7 rating)'},\n",
       " {'parameter_name': 'Restaurant 1',\n",
       "  'parameter_value': 'Balcão 74 (~400m, 3.0 rating)'},\n",
       " {'parameter_name': 'Restaurant 2',\n",
       "  'parameter_value': 'Lupo Nero - Mercado São Jorge (~450m, 4.6 rating)'},\n",
       " {'parameter_name': 'Restaurant 3',\n",
       "  'parameter_value': 'Vó Flor Bakery (~1km, 4.3 rating)'},\n",
       " {'parameter_name': 'School 1',\n",
       "  'parameter_value': 'Colégio Educar Floripa (~650m, 4.2 rating)'},\n",
       " {'parameter_name': 'School 2',\n",
       "  'parameter_value': 'Escola do Parque São Jorge (~1.2km, 4.2 rating)'},\n",
       " {'parameter_name': 'University',\n",
       "  'parameter_value': 'Universidade do Estado de Santa Catarina (UDESC) (~1.5km)'},\n",
       " {'parameter_name': 'Commute to City Center',\n",
       "  'parameter_value': '9.7 km, 21 minutes (peak hours)'},\n",
       " {'parameter_name': 'Commute to Lagoa da Conceição',\n",
       "  'parameter_value': '4.4 km, 8 minutes (peak hours)'},\n",
       " {'parameter_name': 'Commute to UDESC',\n",
       "  'parameter_value': '2.5 km, 6 minutes (peak hours)'},\n",
       " {'parameter_name': 'Quality of Life',\n",
       "  'parameter_value': 'High, with good leisure and nature options, but security concerns'},\n",
       " {'parameter_name': 'Infrastructure',\n",
       "  'parameter_value': 'Robust, with good public services and urban planning'}]"
      ]
     },
     "execution_count": 45,
     "metadata": {},
     "output_type": "execute_result"
    }
   ],
   "execution_count": 45
  },
  {
   "metadata": {
    "ExecuteTime": {
     "end_time": "2024-07-08T19:03:46.720491Z",
     "start_time": "2024-07-08T19:03:46.699545Z"
    }
   },
   "cell_type": "code",
   "source": [
    "\n",
    "\n",
    "all_msg = []\n",
    "for message in result.messages:\n",
    "    print(message)\n",
    "    for m in message.content:\n",
    "        all_msg.append(m.dict())\n",
    "\n",
    "# save result\n",
    "with open(\"result.json\", 'w') as f:\n",
    "    json.dump(all_msg, f)\n"
   ],
   "id": "69908357fb4764f0",
   "outputs": [
    {
     "name": "stdout",
     "output_type": "stream",
     "text": [
      "Message(id='msg_ky0ewbaRpuOz1hkLlVBKZuMf', assistant_id=None, attachments=[], completed_at=None, content=[TextContentBlock(text=Text(annotations=[], value='Meu cliente está interessado nesse imóvel: <property>{\"property_id\":\"1\",\"title\":\"Apartamento para aluguel com 2 quartos\",\"description\":\"Apartamento de 2 quartos, ampla suíte com closet, banheira de hidromassagem e sacada. Sala ampla com sacada, móveis planejados e eletrodomésticos, ar condicionado em ambos os quartos, 2 vagas de garagem, todas cobertas e livres. Condomínio São Jorge, com portaria 24 horas, piscina, quadra esportiva, salão de festas, gás encanado, playground e espaço gourmet na área comum, o Condomínio São Jorge é preparado para atender às necessidades dos moradores que buscam lazer e conforto em um só lugar. A proximidade com a Universidade do Estado de Santa Catarina (UDESC), quando falamos, o Itacorubi é o bairro perfeito para quem busca fácil acesso às praias e ao centro da cidade. Ele está localizado a poucos minutos do Centro e da Lagoa da Conceição, um dos pontos turísticos mais conhecidos de Florianópolis.\",\"price\":\"6000\",\"neighborhood\":\"Itacorubi\",\"full_address\":\"Avenida Avenida Itamarati, 380 - Itacorubi, Florianópolis, SC - São Jorge\",\"property_metadata\":[{\"parameter_name\":\"Area\",\"parameter_value\":\"125.51 m²\"},{\"parameter_name\":\"Bedrooms\",\"parameter_value\":\"2 quartos (1 suíte)\"},{\"parameter_name\":\"Bathrooms\",\"parameter_value\":\"3 banheiros\"},{\"parameter_name\":\"Parking Spaces\",\"parameter_value\":\"2 vagas\"},{\"parameter_name\":\"Air Conditioning\",\"parameter_value\":\"Yes\"},{\"parameter_name\":\"Barbecue\",\"parameter_value\":\"Yes\"},{\"parameter_name\":\"Swimming Pool\",\"parameter_value\":\"Yes\"},{\"parameter_name\":\"Security Guard\",\"parameter_value\":\"Yes\"},{\"parameter_name\":\"Playground\",\"parameter_value\":\"Yes\"},{\"parameter_name\":\"Monthly IPTU\",\"parameter_value\":\"270\"},{\"parameter_name\":\"Monthly Condominium Fee\",\"parameter_value\":\"1065\"}],\"property_metadata_founded_keys\":[\"Area\",\"Bedrooms\",\"Bathrooms\",\"Parking Spaces\",\"Air Conditioning\",\"Barbecue\",\"Swimming Pool\",\"Security Guard\",\"Playground\",\"Monthly IPTU\",\"Monthly Condominium Fee\"],\"images\":[\"https://gralhaaluguel.inforcedata.com.br/api/image/3235252.jpg\",\"https://gralhaaluguel.inforcedata.com.br/api/image/3235253.jpg\",\"https://gralhaaluguel.inforcedata.com.br/api/image/3235254.jpg\",\"https://gralhaaluguel.inforcedata.com.br/api/image/3235255.jpg\",\"https://gralhaaluguel.inforcedata.com.br/api/image/3235256.jpg\",\"https://gralhaaluguel.inforcedata.com.br/api/image/3235257.jpg\",\"https://gralhaaluguel.inforcedata.com.br/api/image/3235258.jpg\",\"https://gralhaaluguel.inforcedata.com.br/api/image/3235259.jpg\",\"https://gralhaaluguel.inforcedata.com.br/api/image/3235260.jpg\",\"https://gralhaaluguel.inforcedata.com.br/api/image/3235261.jpg\",\"https://gralhaaluguel.inforcedata.com.br/api/image/3235262.jpg\",\"https://gralhaaluguel.inforcedata.com.br/api/image/3235263.jpg\",\"https://gralhaaluguel.inforcedata.com.br/api/image/3235264.jpg\",\"https://gralhaaluguel.inforcedata.com.br/api/image/3235265.jpg\",\"https://gralhaaluguel.inforcedata.com.br/api/image/3235266.jpg\",\"https://gralhaaluguel.inforcedata.com.br/api/image/3235267.jpg\",\"https://gralhaaluguel.inforcedata.com.br/api/image/3235268.jpg\",\"https://gralhaaluguel.inforcedata.com.br/api/image/3235269.jpg\",\"https://gralhaaluguel.inforcedata.com.br/api/image/3235270.jpg\",\"https://gralhaaluguel.inforcedata.com.br/api/image/3235271.jpg\",\"https://gralhaaluguel.inforcedata.com.br/api/image/3235272.jpg\",\"https://gralhaaluguel.inforcedata.com.br/api/image/3235273.jpg\",\"https://gralhaaluguel.inforcedata.com.br/api/image/3235274.jpg\",\"https://gralhaaluguel.inforcedata.com.br/api/image/3235275.jpg\",\"https://gralhaaluguel.inforcedata.com.br/api/image/3235276.jpg\",\"https://gralhaaluguel.inforcedata.com.br/api/image/3235277.jpg\",\"https://gralhaaluguel.inforcedata.com.br/api/image/3235278.jpg\",\"https://gralhaaluguel.inforcedata.com.br/api/image/3235279.jpg\",\"https://gralhaaluguel.inforcedata.com.br/api/image/3235280.jpg\",\"https://gralhaaluguel.inforcedata.com.br/api/image/3235281.jpg\",\"https://gralhaaluguel.inforcedata.com.br/api/image/3235282.jpg\",\"https://gralhaaluguel.inforcedata.com.br/api/image/3235283.jpg\",\"https://gralhaaluguel.inforcedata.com.br/api/image/3235284.jpg\",\"https://gralhaaluguel.inforcedata.com.br/api/image/3235285.jpg\"]}</property>. Vamos enriquecer as informações?'), type='text')], created_at=1720461590, incomplete_at=None, incomplete_details=None, metadata={}, object='thread.message', role='user', run_id=None, status=None, thread_id='thread_SdydUhDHt5jpSz2V9wkj5ohH')\n",
      "Message(id='msg_iZwlAe1VZAhsqg7QqPwHdrZO', assistant_id='asst_tzH7lsXuqAEIM61bCJkI50e9', attachments=[], completed_at=1720461598, content=[TextContentBlock(text=Text(annotations=[], value='Claro, vamos começar a enriquecer as informações sobre esse imóvel. Vou dividir nossa análise em várias etapas para garantir uma cobertura completa:\\n\\n### Plano de Ação\\n\\n1. **Geocodificação**\\n   - Validar e obter as coordenadas precisas do endereço fornecido.\\n\\n2. **Análise e Destaque de Pontos de Interesse Próximos**\\n   - Identificar e descrever locais de interesse nas proximidades, como universidades, supermercados, hospitais, parques, pontos turísticos, etc.\\n\\n3. **Rotas e Tempo de Deslocamento**\\n   - Calcular o tempo e distância de carro durante o horário de pico até pontos chave, como o centro da cidade, praias, e a Universidade do Estado de Santa Catarina (UDESC).\\n\\n4. **Pesquisa Adicional na Web**\\n   - Coletar informações adicionais sobre segurança, infraestrutura do bairro, qualidade de vida e outros aspectos relevantes.\\n\\n### Etapa 1: Geocodificação do Endereço\\nVou começar qualificando e obtendo a latitude e longitude do endereço para podermos prosseguir com detalhes mais precisos sobre os pontos de interesse e deslocamento.\\n\\n**Endereço:** Avenida Avenida Itamarati, 380 - Itacorubi, Florianópolis, SC - São Jorge\\n\\nVamos fazer isso agora.'), type='text')], created_at=1720461592, incomplete_at=None, incomplete_details=None, metadata={}, object='thread.message', role='assistant', run_id='run_dWvxBHD7Jx8dQeX1iT8uRnJE', status='completed', thread_id='thread_SdydUhDHt5jpSz2V9wkj5ohH')\n",
      "Message(id='msg_qv743KnaM1VyMT4yxW5psjkX', assistant_id='asst_tzH7lsXuqAEIM61bCJkI50e9', attachments=[], completed_at=1720461604, content=[TextContentBlock(text=Text(annotations=[], value='### Etapa 1: Geocodificação Completa\\n\\nO endereço foi validado com sucesso:\\n- **Endereço Formatado:** Avenida Itamarati, 380 - Itacorubi, Florianópolis - SC, 88034-400, Brasil\\n- **Latitude:** -27.590847\\n- **Longitude:** -48.498135\\n\\n### Etapa 2: Análise e Destaque de Pontos de Interesse Próximos\\n\\nAgora, vamos identificar pontos de interesse próximos ao imóvel. Iremos pesquisar os seguintes tipos de locais:\\n\\n1. Supermercados\\n2. Hospitais\\n3. Parques\\n4. Restaurantes\\n5. Escolas e Universidades\\n\\nUtilizaremos a geolocalização para encontrar esses lugares nas proximidades.\\n\\nVamos realizar essas pesquisas agora.'), type='text')], created_at=1720461601, incomplete_at=None, incomplete_details=None, metadata={}, object='thread.message', role='assistant', run_id='run_dWvxBHD7Jx8dQeX1iT8uRnJE', status='completed', thread_id='thread_SdydUhDHt5jpSz2V9wkj5ohH')\n",
      "Message(id='msg_kZV9RiJB4bL2veHw3mTlaq8j', assistant_id='asst_tzH7lsXuqAEIM61bCJkI50e9', attachments=[], completed_at=1720461640, content=[TextContentBlock(text=Text(annotations=[], value='### Análise e Destaque de Pontos de Interesse Próximos\\n\\n#### Supermercados\\n1. **Supermercado É de Casa**\\n   - **Distância:** ~350m\\n   - **Avaliação:** 4.0 (3376 avaliações)\\n   - **Detalhes:** Supermercado bem avaliado e muito próximo, oferecendo conveniência.\\n\\n2. **Armazém Itacorubi - Mercado e Conveniência**\\n   - **Distância:** ~450m\\n   - **Avaliação:** 4.6 (98 avaliações)\\n   - **Detalhes:** Excelente avaliação, ótima para compras rápidas.\\n\\n3. **Empório Ilha**\\n   - **Distância:** ~1.1km\\n   - **Avaliação:** 4.8 (42 avaliações)\\n   - **Detalhes:** Mercado especializado, sugerido para itens mais específicos e de alta qualidade.\\n\\n#### Hospitais\\n1. **Psicólogo Rodrigo Vasconcellos**\\n   - **Distância:** ~1.5km\\n   - **Avaliação:** 5.0 (16 avaliações)\\n   - **Detalhes:** Excelente opção para atendimento psicológico.\\n\\n2. **Clínica Ânima**\\n   - **Distância:** ~1.2km\\n   - **Avaliação:** 5.0 (2 avaliações)\\n   - **Detalhes:** Clínica bem avaliada com serviços gerais de saúde.\\n\\n3. **Saúde Santa Mônica**\\n   - **Distância:** ~1.3km\\n   - **Avaliação:** 3.1 (85 avaliações)\\n   - **Detalhes:** Atendimento variado, porém com uma avaliação mais baixa.\\n\\n#### Parques\\n1. **Parquinho Municipal de Pet Bubu**\\n   - **Distância:** ~300m\\n   - **Avaliação:** 4.8 (11 avaliações)\\n   - **Detalhes:** Ótimo para atividades ao ar livre com animais de estimação.\\n\\n2. **Praça Caiçara**\\n   - **Distância:** ~500m\\n   - **Avaliação:** 4.8 (47 avaliações)\\n   - **Detalhes:** Excelente espaço para lazer e atividades ao ar livre.\\n\\n3. **Trilha do Poção Córrego Grande**\\n   - **Distância:** ~3km\\n   - **Avaliação:** 4.7 (1680 avaliações)\\n   - **Detalhes:** Ideal para caminhadas e exploração da natureza.\\n\\n#### Restaurantes\\n1. **Balcão 74**\\n   - **Distância:** ~400m\\n   - **Avaliação:** 3.0 (2 avaliações)\\n   - **Detalhes:** Opção para refeições rápidas.\\n\\n2. **Lupo Nero - Mercado São Jorge**\\n   - **Distância:** ~450m\\n   - **Avaliação:** 4.6 (10 avaliações)\\n   - **Detalhes:** Restaurante bem avaliado para uma experiência gastronômica sofisticada.\\n\\n3. **Vó Flor Bakery**\\n   - **Distância:** ~1km\\n   - **Avaliação:** 4.3 (2298 avaliações)\\n   - **Detalhes:** Excelente padaria, ideal para café da manhã e lanches.\\n\\n#### Escolas e Universidades\\n1. **Colégio Educar Floripa**\\n   - **Distância:** ~650m\\n   - **Avaliação:** 4.2 (28 avaliações)\\n   - **Detalhes:** Instituição de ensino renomada, excelente para crianças e adolescentes.\\n\\n2. **Escola do Parque São Jorge**\\n   - **Distância:** ~1.2km\\n   - **Avaliação:** 4.2 (18 avaliações)\\n   - **Detalhes:** Instituição de ensino fundamental com boas avaliações.\\n\\n3. **Universidade do Estado de Santa Catarina (UDESC)**\\n   - **Distância:** ~1.5km\\n\\n### Etapa 3: Rotas e Tempo de Deslocamento\\n\\nVamos calcular o tempo de deslocamento de carro durante o horário de pico até alguns pontos chave, como o centro da cidade e praias próximas.\\n\\n#### Centros de Interesse:\\n1. **Centro da Cidade**\\n2. **Lagoa da Conceição**\\n3. **UDESC**\\n\\n### Etapa 4: Pesquisa Adicional na Web\\nPor fim, iremos explorar informações adicionais sobre segurança, infraestrutura do bairro, qualidade de vida, e outros aspectos relevantes.\\n\\nVamos ao passo seguinte: verificar tempos de deslocamento.'), type='text')], created_at=1720461617, incomplete_at=None, incomplete_details=None, metadata={}, object='thread.message', role='assistant', run_id='run_dWvxBHD7Jx8dQeX1iT8uRnJE', status='completed', thread_id='thread_SdydUhDHt5jpSz2V9wkj5ohH')\n",
      "Message(id='msg_Z10f7ZCCE6NChybqY9U8yvuk', assistant_id='asst_tzH7lsXuqAEIM61bCJkI50e9', attachments=[], completed_at=1720461660, content=[TextContentBlock(text=Text(annotations=[], value='### Etapa 3: Rotas e Tempo de Deslocamento\\n\\n#### 1. **Centro da Cidade**\\n- **Distância:** 9.7 km\\n- **Tempo de Deslocamento:** 21 minutos (horário de pico)\\n- **Rota:** Rod. Admar Gonzaga e Av. Beira Mar Norte\\n- **Detalhes:** A rota inclui seguir pela Rod. Admar Gonzaga até a Avenida Beira Mar Norte, com algumas viradas estratégicas. Uma rota direta e conveniente para se deslocar ao centro da cidade.\\n\\n#### 2. **Lagoa da Conceição**\\n- **Distância:** 4.4 km\\n- **Tempo de Deslocamento:** 8 minutos (horário de pico)\\n- **Rota:** Rod. Admar Gonzaga\\n- **Detalhes:** Rápido acesso pela Rod. Admar Gonzaga até a Avenida Afonso Delambert Neto. O trânsito é geralmente fluido nesta rota.\\n\\n#### 3. **Universidade do Estado de Santa Catarina (UDESC)**\\n- **Distância:** 2.5 km\\n- **Tempo de Deslocamento:** 6 minutos (horário de pico)\\n- **Rota:** Rod. Admar Gonzaga\\n- **Detalhes:** Curta distância com deslocamento fácil pela Rod. Admar Gonzaga e um trecho curto na Avenida Madre Benvenuta. Ótima localização para estudantes e funcionários.\\n\\n### Etapa 4: Pesquisa Adicional na Web\\n\\nIrei agora coletar informações adicionais sobre a segurança, infraestrutura do bairro, qualidade de vida e outros aspectos relevantes no Itacorubi, Florianópolis.'), type='text')], created_at=1720461651, incomplete_at=None, incomplete_details=None, metadata={}, object='thread.message', role='assistant', run_id='run_dWvxBHD7Jx8dQeX1iT8uRnJE', status='completed', thread_id='thread_SdydUhDHt5jpSz2V9wkj5ohH')\n",
      "Message(id='msg_6GbsdETqtnpcFtKLQ3Gklabi', assistant_id='asst_tzH7lsXuqAEIM61bCJkI50e9', attachments=[], completed_at=1720461868, content=[TextContentBlock(text=Text(annotations=[], value='### Informações Adicionais\\n\\nBaseado nas informações coletadas sobre o bairro Itacorubi em Florianópolis, segue uma análise detalhada:\\n\\n#### Qualidade de Vida\\n- **Prós:** \\n  - **Lazer e Natureza:** O bairro possui o Jardim Botânico de Florianópolis, ciclovias, e várias opções de lazer como slackline, quadras de esportes, áreas de caminhada e corrida.\\n  - **Instituições Educativas:** Forte presença de instituições educativas atrai muitos estudantes e profissionais do ramo de tecnologia.\\n  - **Comodidades Próximas:** Restaurantes, padarias, mercados e farmácias nas proximidades, além de uma emergente Via Gastronômica.\\n- **Contras:**\\n  - **Segurança:** O bairro apresenta desafios notáveis quanto à segurança, com registros significativos de crimes como roubo e furto. Relatos de incidentes de segurança, incluindo disparos contra prédios e incêndios em apartamentos, sugerem preocupação na região.\\n\\n#### Infraestrutura\\n- **Serviços Públicos:** \\n  - **Bem Mantida:** Infraestrutura adequada com acessos fáceis a diversos serviços essenciais como água, eletricidade e vias públicas conservadas.\\n  - **Lazer:** O Jardim Botânico serve como um ponto de lazer e contato com a natureza.\\n- **Planejamento Urbano:** \\n  - **Ciclovias e Transporte Coletivo:** Presença significativa de ciclovias e boas opções de transporte coletivo.\\n  - **Comércios e Serviços:** Uma grande quantidade de comércios e serviços disponíveis que melhoram a comodidade dos moradores.\\n\\n#### Conclusão\\nO Itacorubi oferece uma qualidade de vida balanceada entre a urbanização e a proximidade com a natureza. Sua infraestrutura robusta e as opções de lazer contribuem positivamente para a vida dos moradores. No entanto, é importante considerar os desafios de segurança na área ao tomar decisões sobre moradia ou investimento.\\n\\n### Resumo das Informações Geradas\\n- **Supermercados, hospitais, parques, restaurantes e escolas:** Várias opções nas proximidades garantem comodidade e acesso fácil a serviços essenciais.\\n- **Tempo de deslocamento ao centro, UDESC e Lagoa da Conceição:** Curto tempo de deslocamento, facilitando a mobilidade.\\n- **Segurança, infraestrutura e qualidade de vida:** A infraestrutura é robusta e a qualidade de vida elevada, mas a segurança é um ponto crítico.\\n\\nEssas informações fornecem uma visão detalhada e equilibrada da área, permitindo que o cliente tome uma decisão informada sobre o imóvel no Itacorubi.'), type='text')], created_at=1720461851, incomplete_at=None, incomplete_details=None, metadata={}, object='thread.message', role='assistant', run_id='run_dWvxBHD7Jx8dQeX1iT8uRnJE', status='completed', thread_id='thread_SdydUhDHt5jpSz2V9wkj5ohH')\n"
     ]
    }
   ],
   "execution_count": 34
  },
  {
   "metadata": {},
   "cell_type": "code",
   "outputs": [],
   "execution_count": null,
   "source": "",
   "id": "2d41deba5cf3d529"
  }
 ],
 "metadata": {
  "kernelspec": {
   "display_name": "Python 3",
   "language": "python",
   "name": "python3"
  },
  "language_info": {
   "codemirror_mode": {
    "name": "ipython",
    "version": 2
   },
   "file_extension": ".py",
   "mimetype": "text/x-python",
   "name": "python",
   "nbconvert_exporter": "python",
   "pygments_lexer": "ipython2",
   "version": "2.7.6"
  }
 },
 "nbformat": 4,
 "nbformat_minor": 5
}
